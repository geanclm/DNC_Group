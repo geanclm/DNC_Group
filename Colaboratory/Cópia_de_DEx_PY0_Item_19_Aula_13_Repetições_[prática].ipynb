{
  "nbformat": 4,
  "nbformat_minor": 0,
  "metadata": {
    "colab": {
      "name": "Cópia de DEx - PY0 Item 19 - Aula 13 - Repetições [prática].ipynb",
      "provenance": [],
      "collapsed_sections": []
    },
    "kernelspec": {
      "name": "python3",
      "display_name": "Python 3"
    },
    "language_info": {
      "name": "python"
    }
  },
  "cells": [
    {
      "cell_type": "markdown",
      "metadata": {
        "id": "7bDa8x-eBrGz"
      },
      "source": [
        ""
      ]
    },
    {
      "cell_type": "markdown",
      "metadata": {
        "id": "dsu3uJksx-M7"
      },
      "source": [
        "![dnc.png](data:image/png;base64,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)"
      ]
    },
    {
      "cell_type": "markdown",
      "metadata": {
        "id": "Mn_vGqswyBr0"
      },
      "source": [
        "<br>Consultor: Everton Menezes </br>"
      ]
    },
    {
      "cell_type": "markdown",
      "metadata": {
        "id": "vmOiyAlWk7HR"
      },
      "source": [
        "# Repetições (loops)\n",
        "\n",
        "As repetições são usadas para executarmos alguma ação por várias vezes seguidas."
      ]
    },
    {
      "cell_type": "markdown",
      "metadata": {
        "id": "bcRKHwmqlMbU"
      },
      "source": [
        "## for\n",
        "\n",
        "O `for` é utilizado quando queremos executar uma ação uma determinada quantidade de vezes."
      ]
    },
    {
      "cell_type": "markdown",
      "metadata": {
        "id": "V02UrCnblc0H"
      },
      "source": [
        "<h2> Estrutura do for </h2>\n",
        "\n",
        "```\n",
        "passo = range(ini,fim)\n",
        "for i in passo:\n",
        "  print('Bloco de repetição')\n",
        "```\n",
        "Temos que determinar um início e um fim para o for, que irá determinar a quantidade de vezes que a ação repetida será feita.\n",
        "\n",
        "<h3> Exemplo 1 </h3>\n",
        "\n",
        "Imprima \"Olá\" cinco vezes seguidas."
      ]
    },
    {
      "cell_type": "code",
      "metadata": {
        "colab": {
          "base_uri": "https://localhost:8080/"
        },
        "id": "qrUhoWGolY3q",
        "outputId": "bff31ba1-bac0-4a6c-f9f6-7668c2162b83"
      },
      "source": [
        "# definindo o passo\n",
        "passo = range(1,5+1)\n",
        "\n",
        "# usando o for\n",
        "for i in passo:\n",
        "  print('Olá', end=' ')\n"
      ],
      "execution_count": 3,
      "outputs": [
        {
          "output_type": "stream",
          "name": "stdout",
          "text": [
            "Olá Olá Olá Olá Olá "
          ]
        }
      ]
    },
    {
      "cell_type": "markdown",
      "metadata": {
        "id": "YEFw5Js1mdn0"
      },
      "source": [
        "Repare que no exemplo acima foram impressos somente quatro \"Olá\"s ao invés de cinco. No **Python** ele sempre percorre do número inicial até o último número antes do final... portanto ele executará:\n",
        "\n",
        "1 - 2 - 3 - 4 - <s>5</s>\n",
        "\n",
        "<h3> Vamos ver em ação? </h3>"
      ]
    },
    {
      "cell_type": "code",
      "metadata": {
        "colab": {
          "base_uri": "https://localhost:8080/"
        },
        "id": "mZPgac0gnAGw",
        "outputId": "fb710834-0e22-4a8a-cccb-2bd62d2c84d3"
      },
      "source": [
        "passo = range(1,5+1)\n",
        "for i in passo:\n",
        "#   print('i = {} - Olá'.format(i))\n",
        "  print(f'i = {i} - Olá')"
      ],
      "execution_count": 4,
      "outputs": [
        {
          "output_type": "stream",
          "name": "stdout",
          "text": [
            "i = 1 - Olá\n",
            "i = 2 - Olá\n",
            "i = 3 - Olá\n",
            "i = 4 - Olá\n",
            "i = 5 - Olá\n"
          ]
        }
      ]
    },
    {
      "cell_type": "markdown",
      "metadata": {
        "id": "DGfOsqeSnWln"
      },
      "source": [
        "Então para executarmos 5 vezes é comum somar 1 no ponto final"
      ]
    },
    {
      "cell_type": "code",
      "metadata": {
        "colab": {
          "base_uri": "https://localhost:8080/"
        },
        "id": "VMVmqohtna8s",
        "outputId": "0cd41abc-571d-40f8-e56f-4f64a2c200b7"
      },
      "source": [
        ""
      ],
      "execution_count": null,
      "outputs": [
        {
          "output_type": "stream",
          "name": "stdout",
          "text": [
            "Passo 1 - olá\n",
            "Passo 2 - olá\n",
            "Passo 3 - olá\n",
            "Passo 4 - olá\n",
            "Passo 5 - olá\n"
          ]
        }
      ]
    },
    {
      "cell_type": "markdown",
      "metadata": {
        "id": "lBLQEda-nk25"
      },
      "source": [
        "<h2> Exemplo 2 </h2>\n",
        "\n",
        "Ler um livro de 20 páginas"
      ]
    },
    {
      "cell_type": "code",
      "metadata": {
        "colab": {
          "base_uri": "https://localhost:8080/"
        },
        "id": "bzaGzrJIn4Pf",
        "outputId": "5178a071-7495-4c10-a149-49c14dc2cab5"
      },
      "source": [
        "passo = range(1,20 + 1)\n",
        "\n",
        "for i in passo:\n",
        "  print('Leia a página: {}'.format(i))\n",
        "print('FIM')"
      ],
      "execution_count": 5,
      "outputs": [
        {
          "output_type": "stream",
          "name": "stdout",
          "text": [
            "Leia a página: 1\n",
            "Leia a página: 2\n",
            "Leia a página: 3\n",
            "Leia a página: 4\n",
            "Leia a página: 5\n",
            "Leia a página: 6\n",
            "Leia a página: 7\n",
            "Leia a página: 8\n",
            "Leia a página: 9\n",
            "Leia a página: 10\n",
            "Leia a página: 11\n",
            "Leia a página: 12\n",
            "Leia a página: 13\n",
            "Leia a página: 14\n",
            "Leia a página: 15\n",
            "Leia a página: 16\n",
            "Leia a página: 17\n",
            "Leia a página: 18\n",
            "Leia a página: 19\n",
            "Leia a página: 20\n",
            "FIM\n"
          ]
        }
      ]
    },
    {
      "cell_type": "markdown",
      "metadata": {
        "id": "NAvzfc_RoWtZ"
      },
      "source": [
        "<h2> Exemplo 3 </h2>\n",
        "\n",
        "Some 5 números digitados pelo usuário."
      ]
    },
    {
      "cell_type": "code",
      "metadata": {
        "colab": {
          "base_uri": "https://localhost:8080/"
        },
        "id": "scbOGzp5ouHo",
        "outputId": "5ecdd517-99ad-4611-e326-f0861e934e52"
      },
      "source": [
        "passo = range(1,5 + 1)\n",
        "\n",
        "soma = 0\n",
        "for i in passo:\n",
        "  n = int(input('digite um valor: '))\n",
        "  soma = soma + n\n",
        "print('A soma total é de {}'.format(soma))"
      ],
      "execution_count": null,
      "outputs": [
        {
          "output_type": "stream",
          "name": "stdout",
          "text": [
            "digite um valor: 5\n",
            "digite um valor: 3\n",
            "digite um valor: 2\n",
            "digite um valor: 5\n",
            "digite um valor: 2\n",
            "A soma total é de 17\n"
          ]
        }
      ]
    },
    {
      "cell_type": "markdown",
      "metadata": {
        "id": "yvkH4EatpD7k"
      },
      "source": [
        "### Modificando o range\n",
        "\n",
        "O range tradicional vai aumentando de 1 em 1 dentro do for, porém podemos configurar para aumentar da maneira que quisermos."
      ]
    },
    {
      "cell_type": "markdown",
      "metadata": {
        "id": "c-vbKqjOpUoD"
      },
      "source": [
        "<h2> Estrutura do passo </h2>\n",
        "\n",
        "```\n",
        "range(inicio, fim, passo)\n",
        "```\n",
        "\n",
        "* início: número inicial do range\n",
        "* fim: número final do range\n",
        "* passo: de quanto em quanto o valor será incrementado\n"
      ]
    },
    {
      "cell_type": "markdown",
      "metadata": {
        "id": "02WcfgvtqK5L"
      },
      "source": [
        "<h3> Exemplo 1 </h3>\n",
        "\n",
        "range(0,10,2)"
      ]
    },
    {
      "cell_type": "code",
      "metadata": {
        "colab": {
          "base_uri": "https://localhost:8080/"
        },
        "id": "mzB0T8eqqR3c",
        "outputId": "259586bc-4363-48ae-c298-2c6ac23bd5f8"
      },
      "source": [
        "passo = range(0,20,3)\n",
        "\n",
        "for i in passo:\n",
        "  print(i, end=' ')\n",
        "print('FIM')"
      ],
      "execution_count": 7,
      "outputs": [
        {
          "output_type": "stream",
          "name": "stdout",
          "text": [
            "0 3 6 9 12 15 18 FIM\n"
          ]
        }
      ]
    },
    {
      "cell_type": "markdown",
      "metadata": {
        "id": "7afcILRKqr2O"
      },
      "source": [
        "<h3> Exemplo 2 </h3>\n",
        "\n",
        "range(10,1,-1)"
      ]
    },
    {
      "cell_type": "code",
      "metadata": {
        "colab": {
          "base_uri": "https://localhost:8080/"
        },
        "id": "Swlil-DQqzjP",
        "outputId": "a6c7b6db-ac9c-4340-a2a0-4d83cb1c67f1"
      },
      "source": [
        "passo = range(10,0-1,-1)\n",
        "\n",
        "for i in passo:\n",
        "  print(i)"
      ],
      "execution_count": null,
      "outputs": [
        {
          "output_type": "stream",
          "name": "stdout",
          "text": [
            "10\n",
            "9\n",
            "8\n",
            "7\n",
            "6\n",
            "5\n",
            "4\n",
            "3\n",
            "2\n",
            "1\n",
            "0\n"
          ]
        }
      ]
    },
    {
      "cell_type": "markdown",
      "metadata": {
        "id": "YcrPj7TBrFXH"
      },
      "source": [
        "<h2> Exercício 1 </h2>\n",
        "\n",
        "Some os números ímpares consecutivos começando em 1 e terminando 9"
      ]
    },
    {
      "cell_type": "code",
      "source": [
        "# somente os números ímpares\n",
        "amostra = range(3,51,2)\n",
        "for i in amostra:\n",
        "    print (i, end=' ')"
      ],
      "metadata": {
        "colab": {
          "base_uri": "https://localhost:8080/"
        },
        "id": "dlnM7fHDaIhC",
        "outputId": "7b8c91a5-c490-4d0b-cc9d-2f04de679ff5"
      },
      "execution_count": 13,
      "outputs": [
        {
          "output_type": "stream",
          "name": "stdout",
          "text": [
            "3 5 7 9 11 13 15 17 19 21 23 25 27 29 31 33 35 37 39 41 43 45 47 49 "
          ]
        }
      ]
    },
    {
      "cell_type": "code",
      "metadata": {
        "colab": {
          "base_uri": "https://localhost:8080/"
        },
        "id": "0jF7VQL1rFCG",
        "outputId": "c76cfeb8-16a7-48b9-836a-85faebef5b1d"
      },
      "source": [
        "passo = range(1,23+1,2)\n",
        "soma = 0\n",
        "\n",
        "for i in passo:\n",
        "  soma = soma + i\n",
        "  print('i = {}, soma = {}'.format(i,soma))\n",
        "print(soma)"
      ],
      "execution_count": null,
      "outputs": [
        {
          "output_type": "stream",
          "name": "stdout",
          "text": [
            "i = 1, soma = 1\n",
            "i = 3, soma = 4\n",
            "i = 5, soma = 9\n",
            "i = 7, soma = 16\n",
            "i = 9, soma = 25\n",
            "i = 11, soma = 36\n",
            "i = 13, soma = 49\n",
            "i = 15, soma = 64\n",
            "i = 17, soma = 81\n",
            "i = 19, soma = 100\n",
            "i = 21, soma = 121\n",
            "i = 23, soma = 144\n",
            "144\n"
          ]
        }
      ]
    },
    {
      "cell_type": "markdown",
      "metadata": {
        "id": "L7qgdtWCrlcE"
      },
      "source": [
        "### Cálculos incrementais\n",
        "\n",
        "Em **Python**, assim como muitas outras linguagens de programação, existe uma maneira simplifica de fazer cálculos incrementais"
      ]
    },
    {
      "cell_type": "markdown",
      "metadata": {
        "id": "yegI_mlDrzsS"
      },
      "source": [
        "<h2> Estrutura dos cálculos incrementais </h2>\n",
        "\n",
        "> soma = soma + 1 -> `soma += 1` <br>\n",
        "soma = soma + 5 -> `soma += 5` <br>\n",
        "soma = soma - 1 -> `soma -= 1` <br>\n",
        "soma = soma - 5 -> `soma -= 5` <br>\n",
        "soma = soma * 2 -> `soma *= 2` \n",
        "\n",
        "<h3> Resumo </h3>\n",
        "\n",
        ">anterior `+=` incremento <br>\n",
        "anterior `-=` incremento <br>\n",
        "anterior `*=` incremento <br>\n",
        "anterior `/=` incremento <br>\n",
        "\n",
        "<h3> Exemplo 1 </h3>\n",
        "\n",
        "Começando pelo número 1, some 1 a ele 10 vezes consecutivas"
      ]
    },
    {
      "cell_type": "code",
      "metadata": {
        "colab": {
          "base_uri": "https://localhost:8080/"
        },
        "id": "Aa2cGd7cUDjn",
        "outputId": "16ed5b8d-fef7-498d-d4dd-2e51b9139cf9"
      },
      "source": [
        "soma = 1\n",
        "passo = range(1,10+1)\n",
        "\n",
        "for i in passo:\n",
        "  #soma = soma + 1\n",
        "  soma += 3\n",
        "print(soma)"
      ],
      "execution_count": 14,
      "outputs": [
        {
          "output_type": "stream",
          "name": "stdout",
          "text": [
            "31\n"
          ]
        }
      ]
    },
    {
      "cell_type": "code",
      "metadata": {
        "colab": {
          "base_uri": "https://localhost:8080/"
        },
        "id": "9ZBPCCGdt9DI",
        "outputId": "abdadede-e821-46c6-ff02-092da55d2abc"
      },
      "source": [
        ""
      ],
      "execution_count": null,
      "outputs": [
        {
          "output_type": "stream",
          "name": "stdout",
          "text": [
            "11\n"
          ]
        }
      ]
    },
    {
      "cell_type": "markdown",
      "metadata": {
        "id": "iZSTFDOVuM4A"
      },
      "source": [
        "<h3> Exemplo 2 </h3>\n",
        "\n",
        "Começando pelo número 2, multiplique ele por 2 nove vezes consecutivas"
      ]
    },
    {
      "cell_type": "code",
      "metadata": {
        "colab": {
          "base_uri": "https://localhost:8080/"
        },
        "id": "7lToFZCzuSpB",
        "outputId": "38b55ba0-4c87-4f97-d969-b14dfec713fd"
      },
      "source": [
        "mult = 2\n",
        "passo = range(1,9+1)\n",
        "\n",
        "for i in passo:\n",
        "  mult *= 2\n",
        "#   print('i = {}, mult {}'.format(i, mult))\n",
        "  print(f'i = {i}, mult {mult}')"
      ],
      "execution_count": 22,
      "outputs": [
        {
          "output_type": "stream",
          "name": "stdout",
          "text": [
            "i = 1, mult 4\n",
            "i = 2, mult 8\n",
            "i = 3, mult 16\n",
            "i = 4, mult 32\n",
            "i = 5, mult 64\n",
            "i = 6, mult 128\n",
            "i = 7, mult 256\n",
            "i = 8, mult 512\n",
            "i = 9, mult 1024\n"
          ]
        }
      ]
    },
    {
      "cell_type": "markdown",
      "metadata": {
        "id": "NEC83LINu4Hn"
      },
      "source": [
        "<h2> Exercício 1 </h2>\n",
        "\n",
        "Tire a média de 3 números digitados pelo usuário."
      ]
    },
    {
      "cell_type": "code",
      "metadata": {
        "colab": {
          "base_uri": "https://localhost:8080/"
        },
        "id": "T0sHws0PvBfO",
        "outputId": "aba473f1-6dd7-4f8b-d454-a42f155903fb"
      },
      "source": [
        "passo = range(1,3+1)\n",
        "soma = 0\n",
        "\n",
        "for i in passo:\n",
        "  n = float(input('Digite o {}º número: '.format(i)))\n",
        "  soma += n\n",
        "  print('i = {}, soma = {}'.format(i,soma))\n",
        "media = soma / i\n",
        "print('a média é de: {}'.format(media))"
      ],
      "execution_count": null,
      "outputs": [
        {
          "output_type": "stream",
          "name": "stdout",
          "text": [
            "Digite o 1º número: 3\n",
            "i = 1, soma = 3.0\n",
            "Digite o 2º número: 4\n",
            "i = 2, soma = 7.0\n",
            "Digite o 3º número: 5\n",
            "i = 3, soma = 12.0\n",
            "a média é de: 4.0\n"
          ]
        }
      ]
    },
    {
      "cell_type": "markdown",
      "metadata": {
        "id": "8jvwLnRDvp90"
      },
      "source": [
        "<h2> Exercício 2 </h2>\n",
        "\n",
        "1. Pergunte para o usuário de quantos números ele quer tirar a média\n",
        "2. Tire a média desses números"
      ]
    },
    {
      "cell_type": "code",
      "metadata": {
        "colab": {
          "base_uri": "https://localhost:8080/"
        },
        "id": "qyVZh-mOvymM",
        "outputId": "d8e7d33b-5df5-4669-f024-a8d754d1d12b"
      },
      "source": [
        "qtd = int(input(\"quantos números você quer tirar a média? \"))\n",
        "passo = range(1, qtd + 1)\n",
        "soma = 0\n",
        "\n",
        "for i in passo:\n",
        "  n = float(input('Digite o {}º número'.format(i)))\n",
        "  soma += n\n",
        "media = soma / i\n",
        "print('A média deu de: {}'.format(media))"
      ],
      "execution_count": null,
      "outputs": [
        {
          "output_type": "stream",
          "name": "stdout",
          "text": [
            "quantos numeros você quer tirar a média? 3\n",
            "Digite o 1º número3\n",
            "Digite o 2º número4\n",
            "Digite o 3º número5\n",
            "A média deu de: 4.0\n"
          ]
        }
      ]
    },
    {
      "cell_type": "markdown",
      "metadata": {
        "id": "-ZBojQytwSYF"
      },
      "source": [
        "## while\n",
        "\n",
        "Como já vimos, o for é uma estrutura de repetição que possui um começo e um fim bem determinados.\n",
        "\n",
        "Quando não sabemos onde termina um loop precisamos usar outros métodos."
      ]
    },
    {
      "cell_type": "markdown",
      "metadata": {
        "id": "HOC31j9Nwi55"
      },
      "source": [
        "O while será executado até sua condição inicial não ser mais verdade.\n",
        "\n",
        "<h2> Estrutura </h2> \n",
        "\n",
        "```\n",
        "while True:\n",
        "\tprint('Execute a ação')\n",
        "```\n",
        "\n",
        "Devido a essa estrutura precisamos ter uma variável de controle e ela precisa ser modificada dentro do loop para não ficarmos presos num looping infinito.\n",
        "\n",
        "```\n",
        "fim = False\n",
        "while fim == False:\n",
        "  print('Execute a ação')\n",
        "  fim = bool(input(‘Terminou?’))\n",
        "print('Fim')\n",
        "```\n",
        "\n",
        "<h3> Exemplo 1 </h3>\n",
        "\n",
        "Quero ler um capítulo de um livro mas não sei quantas páginas possui este capítulo"
      ]
    },
    {
      "cell_type": "code",
      "metadata": {
        "colab": {
          "base_uri": "https://localhost:8080/"
        },
        "id": "y9GWqxsZxw89",
        "outputId": "ee560946-4dae-4ebe-aee7-2da8b9ad4547"
      },
      "source": [
        "fim = 'n'\n",
        "p = 0\n",
        "while fim == 'n':\n",
        "    p += 1\n",
        "    print(f'Leia página {p}')\n",
        "    fim = input('Terminou o capítulo? (s/n) ')\n",
        "print('FIM')"
      ],
      "execution_count": 23,
      "outputs": [
        {
          "output_type": "stream",
          "name": "stdout",
          "text": [
            "Leia página 1\n",
            "Terminou o capítulo? (s/n) n\n",
            "Leia página 2\n",
            "Terminou o capítulo? (s/n) n\n",
            "Leia página 3\n",
            "Terminou o capítulo? (s/n) s\n",
            "FIM\n"
          ]
        }
      ]
    },
    {
      "cell_type": "markdown",
      "metadata": {
        "id": "LIQpYSB4zMOO"
      },
      "source": [
        "<h3> Exemplo 2 </h3>\n",
        "\n",
        "Começando pelo número 1, some 1 a ele 10 vezes consecutivas"
      ]
    },
    {
      "cell_type": "code",
      "metadata": {
        "colab": {
          "base_uri": "https://localhost:8080/"
        },
        "id": "_EqecwHrzcUt",
        "outputId": "d6db4a8e-7cc3-4beb-cadf-10da61839b78"
      },
      "source": [
        "soma = 1\n",
        "i = 1\n",
        "\n",
        "while i < 10:\n",
        "  i += 1 \n",
        "  soma += 1\n",
        "  print(soma)"
      ],
      "execution_count": 24,
      "outputs": [
        {
          "output_type": "stream",
          "name": "stdout",
          "text": [
            "2\n",
            "3\n",
            "4\n",
            "5\n",
            "6\n",
            "7\n",
            "8\n",
            "9\n",
            "10\n"
          ]
        }
      ]
    },
    {
      "cell_type": "markdown",
      "metadata": {
        "id": "gxWv1g3Tz164"
      },
      "source": [
        "<h2> Exercício 1 </h2>\n",
        "\n",
        "Some números digitados pelo usuário até a soma deles ultrapassar 20"
      ]
    },
    {
      "cell_type": "code",
      "metadata": {
        "colab": {
          "base_uri": "https://localhost:8080/"
        },
        "id": "E-TiRxTaz-hF",
        "outputId": "40bb00d8-764a-43e2-d572-c6bd28076555"
      },
      "source": [
        "soma = 0\n",
        "\n",
        "while soma < 20:\n",
        "  n = int(input('Digite o número: '))\n",
        "  soma += n\n",
        "print(soma)"
      ],
      "execution_count": null,
      "outputs": [
        {
          "output_type": "stream",
          "name": "stdout",
          "text": [
            "Digite o numero: 1\n",
            "Digite o numero: 1\n",
            "Digite o numero: 1\n",
            "Digite o numero: -5\n",
            "Digite o numero: 10\n",
            "Digite o numero: 50\n",
            "58\n"
          ]
        }
      ]
    },
    {
      "cell_type": "markdown",
      "metadata": {
        "id": "Pph_TU7M0-th"
      },
      "source": [
        "## break\n",
        "\n",
        "O comando break é utilizado para sairmos de um loop em qualquer momento. Ele é muito utilizado quando:\n",
        "\n",
        "* Já atingimos o objetivo\n",
        "* O usuário pediu para parar o loop"
      ]
    },
    {
      "cell_type": "markdown",
      "metadata": {
        "id": "lyRv_8M11uHk"
      },
      "source": [
        "Já que ele sempre finaliza o looping no exato ponto que ele estava ele geralmente é utilizado junto com o comando `if` para testar se precisamos ou não parar o looping.\n",
        "\n",
        "<h3> Exemplo de looping infinito </h3>\n",
        "\n",
        "Some os números que o usuário digitar"
      ]
    },
    {
      "cell_type": "code",
      "metadata": {
        "colab": {
          "base_uri": "https://localhost:8080/",
          "height": 658
        },
        "id": "lLtlAjr12LC2",
        "outputId": "c3900680-c871-4bd6-bcaa-0ce98e5439a2"
      },
      "source": [
        "soma = 0\n",
        "\n",
        "while True:\n",
        "  n = float(input('Digite um valor: '))\n",
        "  soma += n\n",
        "print(soma)"
      ],
      "execution_count": 25,
      "outputs": [
        {
          "name": "stdout",
          "output_type": "stream",
          "text": [
            "Digite um valor: 2\n",
            "Digite um valor: 3\n",
            "Digite um valor: 2\n",
            "Digite um valor: 0\n"
          ]
        },
        {
          "output_type": "error",
          "ename": "KeyboardInterrupt",
          "evalue": "ignored",
          "traceback": [
            "\u001b[0;31m---------------------------------------------------------------------------\u001b[0m",
            "\u001b[0;31mKeyboardInterrupt\u001b[0m                         Traceback (most recent call last)",
            "\u001b[0;32m/usr/local/lib/python3.7/dist-packages/ipykernel/kernelbase.py\u001b[0m in \u001b[0;36m_input_request\u001b[0;34m(self, prompt, ident, parent, password)\u001b[0m\n\u001b[1;32m    728\u001b[0m             \u001b[0;32mtry\u001b[0m\u001b[0;34m:\u001b[0m\u001b[0;34m\u001b[0m\u001b[0;34m\u001b[0m\u001b[0m\n\u001b[0;32m--> 729\u001b[0;31m                 \u001b[0mident\u001b[0m\u001b[0;34m,\u001b[0m \u001b[0mreply\u001b[0m \u001b[0;34m=\u001b[0m \u001b[0mself\u001b[0m\u001b[0;34m.\u001b[0m\u001b[0msession\u001b[0m\u001b[0;34m.\u001b[0m\u001b[0mrecv\u001b[0m\u001b[0;34m(\u001b[0m\u001b[0mself\u001b[0m\u001b[0;34m.\u001b[0m\u001b[0mstdin_socket\u001b[0m\u001b[0;34m,\u001b[0m \u001b[0;36m0\u001b[0m\u001b[0;34m)\u001b[0m\u001b[0;34m\u001b[0m\u001b[0;34m\u001b[0m\u001b[0m\n\u001b[0m\u001b[1;32m    730\u001b[0m             \u001b[0;32mexcept\u001b[0m \u001b[0mException\u001b[0m\u001b[0;34m:\u001b[0m\u001b[0;34m\u001b[0m\u001b[0;34m\u001b[0m\u001b[0m\n",
            "\u001b[0;32m/usr/local/lib/python3.7/dist-packages/jupyter_client/session.py\u001b[0m in \u001b[0;36mrecv\u001b[0;34m(self, socket, mode, content, copy)\u001b[0m\n\u001b[1;32m    802\u001b[0m         \u001b[0;32mtry\u001b[0m\u001b[0;34m:\u001b[0m\u001b[0;34m\u001b[0m\u001b[0;34m\u001b[0m\u001b[0m\n\u001b[0;32m--> 803\u001b[0;31m             \u001b[0mmsg_list\u001b[0m \u001b[0;34m=\u001b[0m \u001b[0msocket\u001b[0m\u001b[0;34m.\u001b[0m\u001b[0mrecv_multipart\u001b[0m\u001b[0;34m(\u001b[0m\u001b[0mmode\u001b[0m\u001b[0;34m,\u001b[0m \u001b[0mcopy\u001b[0m\u001b[0;34m=\u001b[0m\u001b[0mcopy\u001b[0m\u001b[0;34m)\u001b[0m\u001b[0;34m\u001b[0m\u001b[0;34m\u001b[0m\u001b[0m\n\u001b[0m\u001b[1;32m    804\u001b[0m         \u001b[0;32mexcept\u001b[0m \u001b[0mzmq\u001b[0m\u001b[0;34m.\u001b[0m\u001b[0mZMQError\u001b[0m \u001b[0;32mas\u001b[0m \u001b[0me\u001b[0m\u001b[0;34m:\u001b[0m\u001b[0;34m\u001b[0m\u001b[0;34m\u001b[0m\u001b[0m\n",
            "\u001b[0;32m/usr/local/lib/python3.7/dist-packages/zmq/sugar/socket.py\u001b[0m in \u001b[0;36mrecv_multipart\u001b[0;34m(self, flags, copy, track)\u001b[0m\n\u001b[1;32m    624\u001b[0m         \"\"\"\n\u001b[0;32m--> 625\u001b[0;31m         \u001b[0mparts\u001b[0m \u001b[0;34m=\u001b[0m \u001b[0;34m[\u001b[0m\u001b[0mself\u001b[0m\u001b[0;34m.\u001b[0m\u001b[0mrecv\u001b[0m\u001b[0;34m(\u001b[0m\u001b[0mflags\u001b[0m\u001b[0;34m,\u001b[0m \u001b[0mcopy\u001b[0m\u001b[0;34m=\u001b[0m\u001b[0mcopy\u001b[0m\u001b[0;34m,\u001b[0m \u001b[0mtrack\u001b[0m\u001b[0;34m=\u001b[0m\u001b[0mtrack\u001b[0m\u001b[0;34m)\u001b[0m\u001b[0;34m]\u001b[0m\u001b[0;34m\u001b[0m\u001b[0;34m\u001b[0m\u001b[0m\n\u001b[0m\u001b[1;32m    626\u001b[0m         \u001b[0;31m# have first part already, only loop while more to receive\u001b[0m\u001b[0;34m\u001b[0m\u001b[0;34m\u001b[0m\u001b[0;34m\u001b[0m\u001b[0m\n",
            "\u001b[0;32mzmq/backend/cython/socket.pyx\u001b[0m in \u001b[0;36mzmq.backend.cython.socket.Socket.recv\u001b[0;34m()\u001b[0m\n",
            "\u001b[0;32mzmq/backend/cython/socket.pyx\u001b[0m in \u001b[0;36mzmq.backend.cython.socket.Socket.recv\u001b[0;34m()\u001b[0m\n",
            "\u001b[0;32mzmq/backend/cython/socket.pyx\u001b[0m in \u001b[0;36mzmq.backend.cython.socket._recv_copy\u001b[0;34m()\u001b[0m\n",
            "\u001b[0;32m/usr/local/lib/python3.7/dist-packages/zmq/backend/cython/checkrc.pxd\u001b[0m in \u001b[0;36mzmq.backend.cython.checkrc._check_rc\u001b[0;34m()\u001b[0m\n",
            "\u001b[0;31mKeyboardInterrupt\u001b[0m: ",
            "\nDuring handling of the above exception, another exception occurred:\n",
            "\u001b[0;31mKeyboardInterrupt\u001b[0m                         Traceback (most recent call last)",
            "\u001b[0;32m<ipython-input-25-cf5858866675>\u001b[0m in \u001b[0;36m<module>\u001b[0;34m()\u001b[0m\n\u001b[1;32m      2\u001b[0m \u001b[0;34m\u001b[0m\u001b[0m\n\u001b[1;32m      3\u001b[0m \u001b[0;32mwhile\u001b[0m \u001b[0;32mTrue\u001b[0m\u001b[0;34m:\u001b[0m\u001b[0;34m\u001b[0m\u001b[0;34m\u001b[0m\u001b[0m\n\u001b[0;32m----> 4\u001b[0;31m   \u001b[0mn\u001b[0m \u001b[0;34m=\u001b[0m \u001b[0mfloat\u001b[0m\u001b[0;34m(\u001b[0m\u001b[0minput\u001b[0m\u001b[0;34m(\u001b[0m\u001b[0;34m'Digite um valor: '\u001b[0m\u001b[0;34m)\u001b[0m\u001b[0;34m)\u001b[0m\u001b[0;34m\u001b[0m\u001b[0;34m\u001b[0m\u001b[0m\n\u001b[0m\u001b[1;32m      5\u001b[0m   \u001b[0msoma\u001b[0m \u001b[0;34m+=\u001b[0m \u001b[0mn\u001b[0m\u001b[0;34m\u001b[0m\u001b[0;34m\u001b[0m\u001b[0m\n\u001b[1;32m      6\u001b[0m \u001b[0mprint\u001b[0m\u001b[0;34m(\u001b[0m\u001b[0msoma\u001b[0m\u001b[0;34m)\u001b[0m\u001b[0;34m\u001b[0m\u001b[0;34m\u001b[0m\u001b[0m\n",
            "\u001b[0;32m/usr/local/lib/python3.7/dist-packages/ipykernel/kernelbase.py\u001b[0m in \u001b[0;36mraw_input\u001b[0;34m(self, prompt)\u001b[0m\n\u001b[1;32m    702\u001b[0m             \u001b[0mself\u001b[0m\u001b[0;34m.\u001b[0m\u001b[0m_parent_ident\u001b[0m\u001b[0;34m,\u001b[0m\u001b[0;34m\u001b[0m\u001b[0;34m\u001b[0m\u001b[0m\n\u001b[1;32m    703\u001b[0m             \u001b[0mself\u001b[0m\u001b[0;34m.\u001b[0m\u001b[0m_parent_header\u001b[0m\u001b[0;34m,\u001b[0m\u001b[0;34m\u001b[0m\u001b[0;34m\u001b[0m\u001b[0m\n\u001b[0;32m--> 704\u001b[0;31m             \u001b[0mpassword\u001b[0m\u001b[0;34m=\u001b[0m\u001b[0;32mFalse\u001b[0m\u001b[0;34m,\u001b[0m\u001b[0;34m\u001b[0m\u001b[0;34m\u001b[0m\u001b[0m\n\u001b[0m\u001b[1;32m    705\u001b[0m         )\n\u001b[1;32m    706\u001b[0m \u001b[0;34m\u001b[0m\u001b[0m\n",
            "\u001b[0;32m/usr/local/lib/python3.7/dist-packages/ipykernel/kernelbase.py\u001b[0m in \u001b[0;36m_input_request\u001b[0;34m(self, prompt, ident, parent, password)\u001b[0m\n\u001b[1;32m    732\u001b[0m             \u001b[0;32mexcept\u001b[0m \u001b[0mKeyboardInterrupt\u001b[0m\u001b[0;34m:\u001b[0m\u001b[0;34m\u001b[0m\u001b[0;34m\u001b[0m\u001b[0m\n\u001b[1;32m    733\u001b[0m                 \u001b[0;31m# re-raise KeyboardInterrupt, to truncate traceback\u001b[0m\u001b[0;34m\u001b[0m\u001b[0;34m\u001b[0m\u001b[0;34m\u001b[0m\u001b[0m\n\u001b[0;32m--> 734\u001b[0;31m                 \u001b[0;32mraise\u001b[0m \u001b[0mKeyboardInterrupt\u001b[0m\u001b[0;34m\u001b[0m\u001b[0;34m\u001b[0m\u001b[0m\n\u001b[0m\u001b[1;32m    735\u001b[0m             \u001b[0;32melse\u001b[0m\u001b[0;34m:\u001b[0m\u001b[0;34m\u001b[0m\u001b[0;34m\u001b[0m\u001b[0m\n\u001b[1;32m    736\u001b[0m                 \u001b[0;32mbreak\u001b[0m\u001b[0;34m\u001b[0m\u001b[0;34m\u001b[0m\u001b[0m\n",
            "\u001b[0;31mKeyboardInterrupt\u001b[0m: "
          ]
        }
      ]
    },
    {
      "cell_type": "markdown",
      "metadata": {
        "id": "FfX4YbP23BmW"
      },
      "source": [
        "<h3> Exemplo de looping infinito corrigido </h3>\n",
        "\n",
        "Some os números que o usuário digitar até ele pedir para parar."
      ]
    },
    {
      "cell_type": "code",
      "metadata": {
        "id": "Y45Jr5Rj3HB7",
        "colab": {
          "base_uri": "https://localhost:8080/"
        },
        "outputId": "43197d32-be1f-425f-8df6-4daaa281604d"
      },
      "source": [
        "soma = 0\n",
        "\n",
        "while True:\n",
        "  n = int(input('Digite um valor: '))\n",
        "  soma += n\n",
        "  continua = input('Você quer continuar? (s/n) ')\n",
        "  if continua == 'n':\n",
        "    break\n",
        "  print('depois do break')\n",
        "print(soma)\n"
      ],
      "execution_count": null,
      "outputs": [
        {
          "output_type": "stream",
          "name": "stdout",
          "text": [
            "Digite um valor: 4\n",
            "Você quer continuar? (s/n) s\n",
            "depois do break\n",
            "Digite um valor: 5\n",
            "Você quer continuar? (s/n) s\n",
            "depois do break\n",
            "Digite um valor: 5\n",
            "Você quer continuar? (s/n) n\n",
            "14\n"
          ]
        }
      ]
    },
    {
      "cell_type": "markdown",
      "metadata": {
        "id": "pEZA9oC33OA-"
      },
      "source": [
        "<h3> Exemplo 1 </h3>\n",
        "\n",
        "Peça para o usuário digitar um número. Valide o que ele digitou, caso não seja um número, peça pra ele digitar de novo."
      ]
    },
    {
      "cell_type": "code",
      "metadata": {
        "colab": {
          "base_uri": "https://localhost:8080/"
        },
        "id": "pOUKQ1a03Nf-",
        "outputId": "abc3eb6a-1a6d-49b3-e267-4015500c5f82"
      },
      "source": [
        "while True:\n",
        "  num = input('Digite um número: ')\n",
        "  if num.isnumeric() == True:\n",
        "    print('Você digitou um numero válido')\n",
        "    break\n",
        "  print('Você não digitou um número válido')\n",
        "print('FIM')"
      ],
      "execution_count": null,
      "outputs": [
        {
          "output_type": "stream",
          "name": "stdout",
          "text": [
            "Digite um número: a\n",
            "Você não digitou um número válido\n",
            "Digite um número: s\n",
            "Você não digitou um número válido\n",
            "Digite um número:  \n",
            "Você não digitou um número válido\n",
            "Digite um número: 5\n",
            "Você digitou um numero válido\n",
            "FIM\n"
          ]
        }
      ]
    },
    {
      "cell_type": "markdown",
      "metadata": {
        "id": "IVcUZJbq5p1d"
      },
      "source": [
        "<h3> Exemplo 2 </h3>\n",
        "\n",
        "Faça um programa que calcula a média de valores digitados pelo usuário até o usuário pedir para parar de inserir números"
      ]
    },
    {
      "cell_type": "code",
      "metadata": {
        "colab": {
          "base_uri": "https://localhost:8080/"
        },
        "id": "vA44FzlW6zJJ",
        "outputId": "8b0aaa27-b5bf-4dc1-976b-7132021ecedc"
      },
      "source": [
        "soma = 0\n",
        "i = 0\n",
        "\n",
        "while True:\n",
        "  i += 1\n",
        "  num = float(input('Digite um número: '))\n",
        "  soma += num\n",
        "  continua = input('você quer continuar? (s/n) ')\n",
        "  if continua == 'n':\n",
        "    break\n",
        "media = soma / i\n",
        "print('Você digitou {} numeros, e a média é de {}'.format(i, media))"
      ],
      "execution_count": null,
      "outputs": [
        {
          "output_type": "stream",
          "name": "stdout",
          "text": [
            "Digite um número: 3\n",
            "você quer continuar? (s/n) s\n",
            "Digite um número: 4\n",
            "você quer continuar? (s/n) s\n",
            "Digite um número: 5\n",
            "você quer continuar? (s/n) n\n",
            "Você digitou 3 numeros, e a média é de 4.0\n"
          ]
        }
      ]
    },
    {
      "cell_type": "markdown",
      "metadata": {
        "id": "oNPzq_Ei73gy"
      },
      "source": [
        "# Exercícios"
      ]
    },
    {
      "cell_type": "markdown",
      "metadata": {
        "id": "aSawlb7J8wXc"
      },
      "source": [
        "<h2> Exercício 1 </h2>\n",
        "\n",
        "Faça um programa que calcula a tabuada do número digitado pelo usuário."
      ]
    },
    {
      "cell_type": "code",
      "metadata": {
        "id": "QPYS_FtJ8-3g",
        "colab": {
          "base_uri": "https://localhost:8080/"
        },
        "outputId": "f99e8665-f0d3-4172-a9d3-883a463ad29b"
      },
      "source": [
        "n = int(input('digite um número para tabuada: '))\n",
        "print ('-'*13)\n",
        "print (f'TABUADA DE {n}')\n",
        "print ('-'*13)\n",
        "for i in range (1,10):\n",
        "    r = i*n\n",
        "    print (f'{n} x {i} = {r}')"
      ],
      "execution_count": 32,
      "outputs": [
        {
          "output_type": "stream",
          "name": "stdout",
          "text": [
            "digite um número para tabuada: 4\n",
            "-------------\n",
            "TABUADA DE 4\n",
            "-------------\n",
            "4 x 1 = 4\n",
            "4 x 2 = 8\n",
            "4 x 3 = 12\n",
            "4 x 4 = 16\n",
            "4 x 5 = 20\n",
            "4 x 6 = 24\n",
            "4 x 7 = 28\n",
            "4 x 8 = 32\n",
            "4 x 9 = 36\n"
          ]
        }
      ]
    },
    {
      "cell_type": "markdown",
      "metadata": {
        "id": "_rBeqxIV8Rvx"
      },
      "source": [
        "<h2> Exercício 2\n",
        "\n",
        "Faça um programa que o usuário irá digitar 10 números e você irá mostrar:\n",
        "\n",
        "* Qual foi o menor valor\n",
        "* Qual foi o maior valor\n",
        "* Qual a média dos valores"
      ]
    },
    {
      "cell_type": "code",
      "metadata": {
        "id": "32TsqDVn8RVT",
        "colab": {
          "base_uri": "https://localhost:8080/"
        },
        "outputId": "0e28f647-79d7-4640-ae73-8051fd969189"
      },
      "source": [
        "maior = menor = soma = 0\n",
        "\n",
        "for i in range (0,10):\n",
        "    n = int(input(f'digite o {i+1}º número: '))\n",
        "    if menor == 0:\n",
        "        menor = n\n",
        "    if n < menor:\n",
        "        menor == n\n",
        "    if n > maior:\n",
        "        maior = n\n",
        "    soma += n\n",
        "m = soma/10\n",
        "\n",
        "texto =' RELATÓRIO FINAL '\n",
        "print ('-'*len(texto))\n",
        "print (texto)\n",
        "print ('-'*len(texto))\n",
        "print (f'menor valor: {menor}')\n",
        "print (f'maior valor: {maior}')\n",
        "print (f'média: {m}')"
      ],
      "execution_count": 40,
      "outputs": [
        {
          "output_type": "stream",
          "name": "stdout",
          "text": [
            "digite o 1º número: 1\n",
            "1\n",
            "digite o 2º número: 2\n",
            "2\n",
            "digite o 3º número: 3\n",
            "3\n",
            "digite o 4º número: 4\n",
            "4\n",
            "digite o 5º número: 5\n",
            "5\n",
            "digite o 6º número: 6\n",
            "6\n",
            "digite o 7º número: 7\n",
            "7\n",
            "digite o 8º número: 8\n",
            "8\n",
            "digite o 9º número: 9\n",
            "9\n",
            "digite o 10º número: 10\n",
            "10\n",
            "-----------------\n",
            " RELATÓRIO FINAL \n",
            "-----------------\n",
            "menor valor: 1\n",
            "maior valor: 10\n",
            "média: 5.5\n"
          ]
        }
      ]
    },
    {
      "cell_type": "markdown",
      "metadata": {
        "id": "RDgwAZQF75-i"
      },
      "source": [
        "<h2> Exercício 3 </h2>\n",
        "\n",
        "Faça um programa que calcula a Sequência de Fibonacci de N números, onde N é dado pelo usuário.\n",
        "\n",
        "Essa sequência é construída começando com os números 0 e 1. O próximo número da sequência é sempre a soma dos 2 anteriores.\n",
        "\n",
        "Sequência: 0 - 1 - 1 - 2 - 3 - 5 - 8 - 13 - 21 - ..."
      ]
    },
    {
      "cell_type": "code",
      "metadata": {
        "id": "bCusX8Iy8v_e",
        "colab": {
          "base_uri": "https://localhost:8080/"
        },
        "outputId": "2f7f9306-81b6-4338-ca0e-959328572641"
      },
      "source": [
        "n = int(input('Digite a quantidade de termos para gerar a série Fibonacci: '))\n",
        "\n",
        "texto =' Sequência Fibonacci '\n",
        "print ('-'*len(texto))\n",
        "print (texto)\n",
        "print ('-'*len(texto))\n",
        "\n",
        "c, n1, n2 = 0, 0, 1\n",
        "print (f'{n1} → {n2}', end=' ')\n",
        "while c <= n-3:\n",
        "    n3 = n1+n2\n",
        "    print (f'→ {n3}', end=' ')\n",
        "    c += 1\n",
        "    n1 = n2\n",
        "    n2 = n3"
      ],
      "execution_count": 42,
      "outputs": [
        {
          "output_type": "stream",
          "name": "stdout",
          "text": [
            "Digite uma quantidade de termos para gerar a série Fibonacci: 10\n",
            "---------------------\n",
            " Sequência Fibonacci \n",
            "---------------------\n",
            "0 → 1 → 1 → 2 → 3 → 5 → 8 → 13 → 21 → 34 "
          ]
        }
      ]
    }
  ]
}