{
  "nbformat": 4,
  "nbformat_minor": 0,
  "metadata": {
    "colab": {
      "name": "Cópia de DEx - PY0 Item 27 - Aula 19 - Lista Parte 2 [prática].ipynb",
      "provenance": [],
      "collapsed_sections": []
    },
    "kernelspec": {
      "name": "python3",
      "display_name": "Python 3"
    },
    "language_info": {
      "name": "python"
    }
  },
  "cells": [
    {
      "cell_type": "markdown",
      "metadata": {
        "id": "dsu3uJksx-M7"
      },
      "source": [
        "![dnc.png](data:image/png;base64,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)"
      ]
    },
    {
      "cell_type": "markdown",
      "metadata": {
        "id": "Mn_vGqswyBr0"
      },
      "source": [
        "<br>Consultor: Everton Menezes </br>"
      ]
    },
    {
      "cell_type": "markdown",
      "metadata": {
        "id": "99zA4INuNrJx"
      },
      "source": [
        "# Listas dentro de Listas\n",
        "\n",
        "As listas aceitam qualquer tipo de dados, até outras listas."
      ]
    },
    {
      "cell_type": "markdown",
      "metadata": {
        "id": "BynqPgYFNy6-"
      },
      "source": [
        "## Declarando uma lista composta\n",
        "\n",
        "Para declarar uma lista composta é só colocar uma lista dentro da outra"
      ]
    },
    {
      "cell_type": "markdown",
      "metadata": {
        "id": "z_X46qWcON0P"
      },
      "source": [
        "<h2> Entendendo como as listas compostas funcionam </h2>\n",
        "\n",
        "Imagina que eu tenho um cardápio. Dentro dele eu tenho vários comidas com seus respectivos preços.\n",
        "\n",
        "O cardápio seria então uma lista com todas as comidas\n",
        "\n",
        "Cada comida vai ser uma lista com o Nome da Comida e o seu Preço.\n",
        "\n",
        "```\n",
        "comida1 = ['Lanche', 10.9] \n",
        "comida2 = ['Batata',  5.5]\n",
        "comida3 = ['Refri' ,  3.9]\n",
        "cardapio = [comida1, comida2, comida3]\n",
        "```\n",
        "Então acessando os termos temos:\n",
        "```\n",
        "cardapio[0]    == comida1 == ['Lanche', 10.9]\n",
        "cardapio[0][1] == comida1[1] == 10.0\n",
        "cardapio[2]    == comida3 == ['Refri' ,  3.9]\n",
        "cardapio[2][0] == comida3[0] == 'Refri'\n",
        "```\n",
        "Vamos pegar uma lista dentro de outra lista já declarada e vamos entender como funciona acessar seus termos.\n",
        "\n",
        "<h3> Exemplo 1 </h3>\n",
        "\n",
        "Dado a lista abaixo:\n",
        "```\n",
        "cardapio = [['Lanche', 10.9], ['Batata',  5.5], ['Refri' ,  3.9]]\n",
        "```\n",
        "Acesse os valores:\n",
        "1. `cardapio[0]`, `cardapio[1]` e `cardapio[2]`\n",
        "2. `cardapio[0][0]`, `cardapio[0][1]`, `cardapio[1][0]`, `cardapio[1][1]`\n",
        "Repare nos tipos de cada variável"
      ]
    },
    {
      "cell_type": "code",
      "metadata": {
        "colab": {
          "base_uri": "https://localhost:8080/"
        },
        "id": "BA80Nqs7GO45",
        "outputId": "7961a6b2-59c7-4a94-91c6-4ab8625f616b"
      },
      "source": [
        "# Declarando a lista de listas:\n",
        "cardapio = [['Lanche', 10.9], ['Batata',  5.5], ['Refri' ,  3.9]]\n",
        "print (cardapio)\n",
        "\n",
        "# Imprimindo os valores:\n",
        "print()\n",
        "print('imprimindo com o for')\n",
        "for i,v in enumerate(cardapio):\n",
        "    print (cardapio[i])"
      ],
      "execution_count": 13,
      "outputs": [
        {
          "output_type": "stream",
          "name": "stdout",
          "text": [
            "[['Lanche', 10.9], ['Batata', 5.5], ['Refri', 3.9]]\n",
            "\n",
            "imprimindo com o for\n",
            "['Lanche', 10.9]\n",
            "['Batata', 5.5]\n",
            "['Refri', 3.9]\n"
          ]
        }
      ]
    },
    {
      "cell_type": "markdown",
      "metadata": {
        "id": "8VHRSx9BRL83"
      },
      "source": [
        "Repare que sempre que estamos acessando os valores dentro da lista: o **primeiro** `[ ]` vai acessar as posições mais externas da lista, o **segundo** `[ ]` vai acessar as posição da lista referente à lista do **primeiro** `[ ]` e assim em diante."
      ]
    },
    {
      "cell_type": "markdown",
      "metadata": {
        "id": "7jTzBPLYRoOI"
      },
      "source": [
        "Agora que já entendemos como acessar seus valores vamos ver como declarar uma lista composta.\n",
        "\n",
        "<h2> Declarando por partes </h2>\n",
        "\n",
        "Neste caso declara-se cada item de dentro da lista principal e depois colocam-se seus valores dentro da lista principal. Para quem está começando é a forma mais simples de entender:\n",
        "\n",
        "```\n",
        "lanche = ['Lanche', 10.9] \n",
        "batata = ['Batata',  5.5]\n",
        "refri  = ['Refri' ,  3.9]\n",
        "cardapio = [lanche, batata, refri]\n",
        "```\n",
        "No exemplo acima foram criadas 3 variáveis para armazenar listas com as informações de cada comida. A seguir essas listas foram colocadas dentro da lista principal: cardapio.\n",
        "\n",
        "<h3> Exemplo 2 </h3>\n",
        "\n",
        "* Declare a lista do exemplo acima.\n",
        "* Imprima o valor da posição: `cardapio[1][0]`\n",
        "* Compare os valores: `lanche == cardapio[0]`"
      ]
    },
    {
      "cell_type": "code",
      "metadata": {
        "colab": {
          "base_uri": "https://localhost:8080/"
        },
        "id": "QCEOfLvYSoKp",
        "outputId": "5ac6b125-518b-4665-a055-6ae18ce4ec3c"
      },
      "source": [
        "# Declarando a lista de listas:\n",
        "lanche = ['Lanche', 10.9] \n",
        "batata = ['Batata',  5.5]\n",
        "refri  = ['Refri' ,  3.9]\n",
        "\n",
        "cardapio = [lanche, batata, refri]\n",
        "# Imprimindo os valores:\n",
        "cardapio[1][0]\n",
        "lanche == cardapio[0]"
      ],
      "execution_count": 16,
      "outputs": [
        {
          "output_type": "execute_result",
          "data": {
            "text/plain": [
              "True"
            ]
          },
          "metadata": {},
          "execution_count": 16
        }
      ]
    },
    {
      "cell_type": "markdown",
      "metadata": {
        "id": "KcUlf4GvTGyC"
      },
      "source": [
        "<h2> Declaração direta </h2>\n",
        "\n",
        "Nesse caso declara-se tudo de uma só vez.\n",
        "\n",
        "```\n",
        "cardapio = [['Lanche', 10.9], ['Batata',  5.5], ['Refri' ,  3.9]]\n",
        "```\n",
        "Já neste exemplo, nós temos o `[]` mais externo que é a lista mais externa, no qual cada posição dela vai acessar uma das 3 listas dentro do cardápio.\n",
        "\n",
        "Os `[]` mais internos são listas de cada uma das comidas do cardápio mostrando os nomes e preços de cada item do cardápio.\n",
        "\n",
        "<h3> Exemplo 3 </h3>\n",
        "\n",
        "* Declare a lista do exemplo acima.\n",
        "* Imprima o valor da posição: `cardapio[2]` e `cardapio[2][1]`"
      ]
    },
    {
      "cell_type": "code",
      "metadata": {
        "colab": {
          "base_uri": "https://localhost:8080/"
        },
        "id": "BfQcMDvIUH8e",
        "outputId": "640b2bf7-c5f2-4dc5-d485-a206c125c684"
      },
      "source": [
        "# Declarando a lista de listas:\n",
        "cardapio = [['Lanche', 10.9], ['Batata',  5.5], ['Refri' ,  3.9]]\n",
        "\n",
        "# Imprimindo os valores:\n",
        "cardapio[2], cardapio[2][1]"
      ],
      "execution_count": 19,
      "outputs": [
        {
          "output_type": "execute_result",
          "data": {
            "text/plain": [
              "(['Refri', 3.9], 3.9)"
            ]
          },
          "metadata": {},
          "execution_count": 19
        }
      ]
    },
    {
      "cell_type": "markdown",
      "metadata": {
        "id": "7CeCy-vNUb46"
      },
      "source": [
        "<h2> Declaração com .append() </h2>\n",
        "\n",
        "Como vimos nas aulas anteriores podemos usar o append para inserir um novo item a uma lista.\n",
        "\n",
        "No caso de lista composta podemos usar o `.append()` para inserir uma nova lista dentro da lista mais externa.\n",
        "\n",
        "```\n",
        "cardapio = []\n",
        "comida = []\n",
        "comida.append('Lanche')\n",
        "comida.append(10.9)\n",
        "cardapio.append(comida[:])\n",
        "```\n",
        "Verifique que primeiro temos que declarar nossa lista externa cardapio como uma lista vazia.\n",
        "\n",
        "A seguir criamos uma lista com os itens `comida`\n",
        "\n",
        "Finalmente usamos o `.append()` para colocarmos esses valores dentro da lista externa: `cardapio` \n",
        "\n",
        "<h3> Exemplo 4 </h3>\n",
        "\n",
        "* Declare a lista cardapio inteira usando o `append()`\n",
        "* Imprima o valor da posição: `cardapio[0]` e `cardapio[0][1]`"
      ]
    },
    {
      "cell_type": "code",
      "metadata": {
        "colab": {
          "base_uri": "https://localhost:8080/"
        },
        "id": "TeRFYEYKWR9o",
        "outputId": "cc503ef8-317c-4b76-fe24-f073d91c7220"
      },
      "source": [
        "# Declarando a lista de listas:\n",
        "cardapio = []\n",
        "comida = []\n",
        "\n",
        "comida.append('Lanche')\n",
        "comida.append(10.9)\n",
        "cardapio.append(comida[:])\n",
        "comida.clear()\n",
        "\n",
        "# Imprimindo os valores:\n",
        "\n",
        "comida.append('Batata')\n",
        "comida.append(5.5)\n",
        "cardapio.append(comida[:])\n",
        "comida.clear()  \n",
        "\n",
        "comida.append('Refri')\n",
        "comida.append(3.5)\n",
        "cardapio.append(comida[:])\n",
        "comida.clear()  \n",
        "\n",
        "print(f'cardapio[0] = {cardapio[0]}')\n",
        "print(f'cardapio[0][1] = {cardapio[0][1]}')"
      ],
      "execution_count": 24,
      "outputs": [
        {
          "output_type": "stream",
          "name": "stdout",
          "text": [
            "cardapio[0] = ['Lanche', 10.9]\n"
          ]
        }
      ]
    },
    {
      "cell_type": "markdown",
      "metadata": {
        "id": "FXb_wmSFXCLR"
      },
      "source": [
        "Observe que tivemos que usar um método novo:\n",
        "\n",
        "```\n",
        "var.clear()\n",
        "```\n",
        "Esse método limpa a memória da variável eliminando todos os valores que existam dentro dela.\n",
        "\n",
        "Esse é um método muito útil para quando criamos algumas variáveis temporárias.\n",
        "\n",
        "<h2> Exercício 1 </h2>\n",
        "\n",
        "Usando o método do `append()` e `loops` crie uma lista composta na qual o usuário irá fornecer os termos\n",
        "\n",
        "* A lista externa deve ter 3 itens\n",
        "* A lista interna deve ter 2 itens cada."
      ]
    },
    {
      "cell_type": "code",
      "metadata": {
        "colab": {
          "base_uri": "https://localhost:8080/"
        },
        "id": "aQf8MlzFG5E6",
        "outputId": "3bab589e-3147-4576-a407-a5c0f4882ffe"
      },
      "source": [
        "# Declarando as listas vazias\n",
        "cardapio = []\n",
        "comida = []\n",
        "\n",
        "# Pedindo para o usuário fornecer os valores\n",
        "for c in range(0,3,1):\n",
        "  comida.append(str(input('Nome da comida: ')))\n",
        "  comida.append(float(input('Preço da comida: ')))\n",
        "  cardapio.append(comida[:])\n",
        "  comida.clear()    #limpando a memória da variável\n",
        "print(cardapio)"
      ],
      "execution_count": 25,
      "outputs": [
        {
          "output_type": "stream",
          "name": "stdout",
          "text": [
            "Nome da comida: lanche\n",
            "Preço da comida: 30.50\n",
            "Nome da comida: batata\n",
            "Preço da comida: 5.5\n",
            "Nome da comida: refri\n",
            "Preço da comida: 10\n",
            "[['lanche', 30.5], ['batata', 5.5], ['refri', 10.0]]\n"
          ]
        }
      ]
    },
    {
      "cell_type": "markdown",
      "metadata": {
        "id": "UizibgHCX7wi"
      },
      "source": [
        "## Acessando os valores de uma lista composta\n",
        "\n",
        "Para acessar os valores de uma lista composta é só usar os `[ ]`.\n",
        "\n",
        "Sempre é acessada a lista mais externa para a mais interna"
      ]
    },
    {
      "cell_type": "markdown",
      "metadata": {
        "id": "_ANFXPRQYbDr"
      },
      "source": [
        "<h2> Acesso direto </h2>\n",
        "\n",
        "Para acessar as listas é só colocar a posição da lista desejada no primeiro `[ ]`\n",
        "\n",
        "```\n",
        "cardapio[0]    == ['Lanche', 10.9]\n",
        "cardapio[1]    == ['Batata',  5.5]\n",
        "cardapio[2]    == ['Refri' ,  3.9]\n",
        "```\n",
        "Para acessar os valores dentro das listas é só colocar a posição do valor da lista desejada no segundo `[ ]`\n",
        "\n",
        "```\n",
        "cardapio[0][1] == 10.9\n",
        "cardapio[1][0] == 'Batata'\n",
        "cardapio[2][0] == 'Refri' \n",
        "```\n",
        "\n",
        "<h3> Exemplo 5 </h3>\n",
        "\n",
        "Dado a lista anterior: `cardapio` acesse os valores listados acima."
      ]
    },
    {
      "cell_type": "code",
      "metadata": {
        "colab": {
          "base_uri": "https://localhost:8080/"
        },
        "id": "h50tsbqTZCNq",
        "outputId": "3060100d-f669-47ae-e8b5-09c3ef50d878"
      },
      "source": [
        "# Acessando as listas:\n",
        "print(cardapio[0])\n",
        "print(cardapio[1])\n",
        "print(cardapio[2])\n",
        "\n",
        "# Acessando os valores dentro das listas: \n",
        "print(cardapio[0][1])\n",
        "print(cardapio[1][0])\n",
        "print(cardapio[2][0])"
      ],
      "execution_count": 26,
      "outputs": [
        {
          "output_type": "stream",
          "name": "stdout",
          "text": [
            "['lanche', 30.5]\n",
            "['batata', 5.5]\n",
            "['refri', 10.0]\n",
            "30.5\n",
            "batata\n",
            "refri\n"
          ]
        }
      ]
    },
    {
      "cell_type": "markdown",
      "metadata": {
        "id": "1sllZVncZsAv"
      },
      "source": [
        "<h2> Acessando valores dentro de um for </h2>\n",
        "\n",
        "Assim como podemos declarar os valores dentro de loopings também podemos acessá-los.\n",
        "```\n",
        "for c in cardapio:\n",
        "  print(f'c = {c}, c[0] = {c[0]}, c[1] = {c[1]}')\n",
        "```\n",
        "Basicamente o funcionamento do for é: Para cada `lista c` dentro de `cardapio`, plote a posição `[pos]` dessa lista.\n",
        "\n",
        "<h3> Exemplo 6 </h3>\n",
        "\n",
        "Dado a lista anterior: `cardapio`, acesse:\n",
        "* Todos os nomes no cardápio\n",
        "* Todos os preços no cardápio"
      ]
    },
    {
      "cell_type": "code",
      "metadata": {
        "colab": {
          "base_uri": "https://localhost:8080/"
        },
        "id": "zVk6X1qjJR0O",
        "outputId": "706acfbf-298a-4f1d-8c87-6af2a4928aec"
      },
      "source": [
        "# Imprimindo todas as listas c\n",
        "for c in cardapio:\n",
        "  print(f'c = {c}')\n",
        "print('-'*20)\n",
        "\n",
        "# Imprimindo todos os nomes\n",
        "for c in cardapio:\n",
        "  print(f'c[0] = nome = {c[0]}')\n",
        "print('-'*20)\n",
        "\n",
        "# Imprimindo todos os preços\n",
        "for c in cardapio:\n",
        "  print(f'c[1] = preço = {c[1]}')\n",
        "print('-'*20)\n",
        "\n",
        "# imprimindo nome e preços respectivos\n",
        "for i in cardapio:\n",
        "    print(f'{i[0]:<7}: R${i[1]}')"
      ],
      "execution_count": 35,
      "outputs": [
        {
          "output_type": "stream",
          "name": "stdout",
          "text": [
            "c[1] = preço = 30.5\n",
            "c[1] = preço = 5.5\n",
            "c[1] = preço = 10.0\n",
            "--------------------\n"
          ]
        }
      ]
    },
    {
      "cell_type": "markdown",
      "metadata": {
        "id": "TqGayzuGnRg7"
      },
      "source": [
        "# Exercícios\n"
      ]
    },
    {
      "cell_type": "markdown",
      "metadata": {
        "id": "TePbhvmQnWKa"
      },
      "source": [
        "<h2> Exercício 1 </h2>\n",
        "\n",
        "Dada a lista: \n",
        "```\n",
        "cardapio = [['Lanche', 10.9], ['Batata',  5.5], ['Refri' ,  3.9]]\n",
        "```\n",
        "Faça um programa que irá mostrar o cardápio do restaurante de forma organizada."
      ]
    },
    {
      "cell_type": "code",
      "metadata": {
        "id": "wur0enxZntOs",
        "colab": {
          "base_uri": "https://localhost:8080/"
        },
        "outputId": "78638344-dfbe-47f9-decc-29d50eac1199"
      },
      "source": [
        "# by geanclm in 14/05/2022 at 13:12h\n",
        "cardapio = [['Lanche', 10.9], ['Batata',  5.5], ['Refri' ,  3.9]]\n",
        "texto = '--| CARDÁPIO |--'\n",
        "print ('-'*len(texto))\n",
        "print(texto)\n",
        "print ('-'*len(texto))\n",
        "for i in cardapio:\n",
        "    print(f'{i[0]:.<9} R${i[1]:>4}')"
      ],
      "execution_count": 53,
      "outputs": [
        {
          "output_type": "stream",
          "name": "stdout",
          "text": [
            "----------------\n",
            "--| CARDÁPIO |--\n",
            "----------------\n",
            "Lanche... R$10.9\n",
            "Batata... R$ 5.5\n",
            "Refri.... R$ 3.9\n"
          ]
        }
      ]
    },
    {
      "cell_type": "markdown",
      "metadata": {
        "id": "fTU72RWcnttp"
      },
      "source": [
        "<h2> Exercício 2 </h2>\n",
        "\n",
        "Faça um programa que irá mostrar item a item do cardápio para o usuário e irá perguntar quantos daquele item a pessoa quer comprar.\n",
        "\n",
        "No final mostre a quantidade de cada item comprado e também o valor total da compra."
      ]
    },
    {
      "cell_type": "code",
      "metadata": {
        "id": "mj12E2M5oLrU",
        "colab": {
          "base_uri": "https://localhost:8080/"
        },
        "outputId": "e29ec547-4b9d-4bb1-fa86-90bd8704a7d9"
      },
      "source": [
        "# by geanclm in 14/05/2022\n",
        "cardapio = [['Lanche', 10.9], ['Batata',  5.5], ['Refri' ,  3.9]]\n",
        "texto = '---|  CARDÁPIO  |---'\n",
        "print ('-'*len(texto))\n",
        "print(texto)\n",
        "print ('-'*len(texto))\n",
        "pedido = []\n",
        "venda = []\n",
        "total = 0\n",
        "for i,v in enumerate(cardapio):\n",
        "    print(f'[{i+1}] {v[0]:.<9} R${v[1]:>4}')\n",
        "print ('-'*len(texto))\n",
        "\n",
        "while True:\n",
        "    pedido.append(str(input('informe o item para compra:')))\n",
        "    pedido.append(int(input(f'informe a quantidade:')))\n",
        "    venda.append(pedido[:])\n",
        "    pedido.clear()\n",
        "    continua = input('deseja continuar com o pedido? [S/N]').upper().strip()\n",
        "    if 'N' in continua:\n",
        "        break\n",
        "\n",
        "print ('-'*len(texto))\n",
        "print ('PEDIDO REALIZADO')\n",
        "for i in venda:\n",
        "    print (i)\n",
        "\n",
        "for i in venda:\n",
        "    if i[0] == 'Lanche':\n",
        "        total += (i[1])*10.9\n",
        "    if i[0] == 'Batata':\n",
        "        total += (i[1])*5.5\n",
        "    if i[0] == 'Refri':\n",
        "        total += (i[1])*3.9\n",
        "print ('-'*len(texto))\n",
        "print (f'total a pagar: R${total:.2f}')"
      ],
      "execution_count": 72,
      "outputs": [
        {
          "output_type": "stream",
          "name": "stdout",
          "text": [
            "--------------------\n",
            "---|  CARDÁPIO  |---\n",
            "--------------------\n",
            "[1] Lanche... R$10.9\n",
            "[2] Batata... R$ 5.5\n",
            "[3] Refri.... R$ 3.9\n",
            "--------------------\n",
            "informe o item para compra:Batata\n",
            "informe a quantidade:1\n",
            "deseja continuar com o pedido? [S/N]n\n",
            "--------------------\n",
            "PEDIDO REALIZADO\n",
            "['Batata', 1]\n",
            "--------------------\n",
            "total a pagar: R$5.50\n"
          ]
        }
      ]
    },
    {
      "cell_type": "markdown",
      "metadata": {
        "id": "GdhY9fG3oMAb"
      },
      "source": [
        "<h2> Exercício 3 </h2>\n",
        "Faça um programa que o usuário cadastre algumas informações sobre clientes:\n",
        "\n",
        "* nome\n",
        "* email\n",
        "* telefone\n",
        "* idade\n",
        "\n",
        "A seguir faça um sistema de pesquisa no qual o usuário digita o email e o sistema mostra todas as informações deste usuário.\n"
      ]
    },
    {
      "cell_type": "code",
      "metadata": {
        "id": "7etBAWLGopQS",
        "colab": {
          "base_uri": "https://localhost:8080/"
        },
        "outputId": "5df377d8-b5da-456c-fdfc-4863f12c1512"
      },
      "source": [
        "# by geanclm in 14/05/2022\n",
        "cadastro = []\n",
        "pessoa = []\n",
        "while True:\n",
        "    pessoa.append(str(input('nome para cadastro: ')))\n",
        "    pessoa.append(str(input('e-mail: ')))\n",
        "    pessoa.append(int(input('telefone: ')))\n",
        "    pessoa.append(int(input('idade: ')))\n",
        "    cadastro.append(pessoa[:])\n",
        "    pessoa.clear()\n",
        "    continua = input('deseja continuar com o pedido? [S/N]').upper().strip()\n",
        "    if 'N' in continua:\n",
        "        break\n",
        "texto = '---|  CADASATRO  |---'\n",
        "print ('-'*len(texto))\n",
        "print(texto)\n",
        "print ('-'*len(texto))\n",
        "print (cadastro)"
      ],
      "execution_count": 83,
      "outputs": [
        {
          "output_type": "stream",
          "name": "stdout",
          "text": [
            "nome para cadastro: Carlos\n",
            "e-mail: carlos@gmail.com\n",
            "telefone: 48996773435\n",
            "idade: 47\n",
            "deseja continuar com o pedido? [S/N]s\n",
            "nome para cadastro: Luciano\n",
            "e-mail: luciano@gmail.com\n",
            "telefone: 48996773435\n",
            "idade: 47\n",
            "deseja continuar com o pedido? [S/N]s\n",
            "nome para cadastro: Madeira\n",
            "e-mail: madeira@gmail.com\n",
            "telefone: 48996773435\n",
            "idade: 47\n",
            "deseja continuar com o pedido? [S/N]n\n",
            "---------------------\n",
            "---|  CADASATRO  |---\n",
            "---------------------\n",
            "[['Carlos', 'carlos@gmail.com', 48996773435, 47], ['Luciano', 'luciano@gmail.com', 48996773435, 47], ['Madeira', 'madeira@gmail.com', 48996773435, 47]]\n"
          ]
        }
      ]
    },
    {
      "cell_type": "code",
      "source": [
        "cadastro"
      ],
      "metadata": {
        "colab": {
          "base_uri": "https://localhost:8080/"
        },
        "id": "maWR4NbCrSWs",
        "outputId": "dda8fcec-bf60-411e-f506-0900ac0382d6"
      },
      "execution_count": 84,
      "outputs": [
        {
          "output_type": "execute_result",
          "data": {
            "text/plain": [
              "[['Carlos', 'carlos@gmail.com', 48996773435, 47],\n",
              " ['Luciano', 'luciano@gmail.com', 48996773435, 47],\n",
              " ['Madeira', 'madeira@gmail.com', 48996773435, 47]]"
            ]
          },
          "metadata": {},
          "execution_count": 84
        }
      ]
    },
    {
      "cell_type": "code",
      "source": [
        "# by geanclm in 14/05/2022 at 14:58h\n",
        "texto = '---|  CONSULTA  |---'\n",
        "print ('-'*len(texto))\n",
        "print(texto)\n",
        "print ('-'*len(texto))\n",
        "print()\n",
        "consulta = input('e-mail: ').strip()\n",
        "print()\n",
        "for i in cadastro:\n",
        "    if (consulta in i[1]):\n",
        "        print ('-'*len(texto))\n",
        "        print (i)\n",
        "        print ('-'*len(texto))\n",
        "        mensagem = 'registro localizado com sucesso!'\n",
        "        break       \n",
        "    else:\n",
        "        mensagem = 'contato não localizado no sistema'\n",
        "print (mensagem)"
      ],
      "metadata": {
        "colab": {
          "base_uri": "https://localhost:8080/"
        },
        "id": "b8Bqf17-o-gH",
        "outputId": "aba41c88-a330-479d-bdca-1f1d514cab3b"
      },
      "execution_count": 94,
      "outputs": [
        {
          "output_type": "stream",
          "name": "stdout",
          "text": [
            "--------------------\n",
            "---|  CONSULTA  |---\n",
            "--------------------\n",
            "\n",
            "e-mail: carlos@gmail.com\n",
            "\n",
            "--------------------\n",
            "['Carlos', 'carlos@gmail.com', 48996773435, 47]\n",
            "--------------------\n",
            "registro localizado com sucesso!\n"
          ]
        }
      ]
    }
  ]
}