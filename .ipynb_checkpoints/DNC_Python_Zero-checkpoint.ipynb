{
 "cells": [
  {
   "cell_type": "markdown",
   "metadata": {
    "id": "DAZXEGJmrRkn"
   },
   "source": [
    "Curso: Python Zero<br>\n",
    "DNC Group<br>\n",
    "iniciado em 29/03/2022<br>\n",
    "by geanclm"
   ]
  },
  {
   "cell_type": "code",
   "execution_count": null,
   "metadata": {
    "colab": {
     "base_uri": "https://localhost:8080/"
    },
    "id": "WQPnxW_CMsvX",
    "outputId": "da5f112f-1371-4a29-df26-0743f08ce3a1"
   },
   "outputs": [
    {
     "name": "stdout",
     "output_type": "stream",
     "text": [
      "---------------------------------\n",
      "           Olá Mundo!            \n",
      "---------------------------------\n"
     ]
    }
   ],
   "source": [
    "print (f'{\"-\"*33:^33}')\n",
    "print (f'{\"Olá Mundo!\":^33}') #função imprimir\n",
    "print (f'{\"-\"*33:^33}')"
   ]
  },
  {
   "cell_type": "code",
   "execution_count": null,
   "metadata": {
    "colab": {
     "base_uri": "https://localhost:8080/"
    },
    "id": "6nhnRgBcrt-H",
    "outputId": "b2587629-5646-4378-c600-6f51dea5eed3"
   },
   "outputs": [
    {
     "name": "stdout",
     "output_type": "stream",
     "text": [
      "Casa 10 grande True\n"
     ]
    }
   ],
   "source": [
    "print('Casa', 10, 'grande', True)"
   ]
  },
  {
   "cell_type": "markdown",
   "metadata": {
    "id": "WnEQh4oNcAeM"
   },
   "source": [
    "# Operadores Aritméticos"
   ]
  },
  {
   "cell_type": "code",
   "execution_count": 15,
   "metadata": {
    "colab": {
     "base_uri": "https://localhost:8080/"
    },
    "id": "i8hoQ0tMcDzb",
    "outputId": "9dab0984-28ba-4dae-a349-6f06cb4e49dd"
   },
   "outputs": [
    {
     "name": "stdout",
     "output_type": "stream",
     "text": [
      "9\n",
      "5\n",
      "14\n",
      "3.5\n",
      "49\n",
      "3\n",
      "1\n"
     ]
    }
   ],
   "source": [
    "print(7 + 2)\n",
    "print(7 - 2)\n",
    "print(7 * 2)\n",
    "print(7 / 2)\n",
    "print(7 ** 2)\n",
    "print(7 // 2)\n",
    "print(7 % 2)"
   ]
  },
  {
   "cell_type": "code",
   "execution_count": 4,
   "metadata": {
    "colab": {
     "base_uri": "https://localhost:8080/"
    },
    "id": "UteuGZFNcZyF",
    "outputId": "087df5e3-f941-42fa-b147-4d8db52005df"
   },
   "outputs": [
    {
     "name": "stdout",
     "output_type": "stream",
     "text": [
      "Olá Mundo\n"
     ]
    }
   ],
   "source": [
    "print ('Olá' + ' Mundo')"
   ]
  },
  {
   "cell_type": "code",
   "execution_count": 6,
   "metadata": {
    "colab": {
     "base_uri": "https://localhost:8080/"
    },
    "id": "2mT1ocfNdD7T",
    "outputId": "ce713cc9-6165-4247-b6f1-0732620be9c0"
   },
   "outputs": [
    {
     "name": "stdout",
     "output_type": "stream",
     "text": [
      "Olá Olá Olá Olá Olá \n"
     ]
    }
   ],
   "source": [
    "print ('Olá '*5)"
   ]
  },
  {
   "cell_type": "code",
   "execution_count": 14,
   "metadata": {
    "colab": {
     "base_uri": "https://localhost:8080/"
    },
    "id": "zm4PQVdddKSc",
    "outputId": "b56e093f-36b6-4fc7-d5c4-818467d34526"
   },
   "outputs": [
    {
     "name": "stdout",
     "output_type": "stream",
     "text": [
      "---------------------\n",
      "        texto        \n",
      "---------------------\n"
     ]
    }
   ],
   "source": [
    "print ('-'*21)\n",
    "print (f'{\"texto\":^21}')\n",
    "print ('-'*21)"
   ]
  },
  {
   "cell_type": "code",
   "execution_count": null,
   "metadata": {
    "id": "IVlH6ZJ5djb1"
   },
   "outputs": [],
   "source": [
    "# https://docs.python.org/pt-br/3/reference/expressions.html#operator-summary\n",
    "# Ordem de precedência:\n",
    "# ()\n",
    "# **\n",
    "# * / // %\n",
    "# + -"
   ]
  },
  {
   "cell_type": "code",
   "execution_count": 8,
   "metadata": {
    "colab": {
     "base_uri": "https://localhost:8080/"
    },
    "id": "STGNRyfthJij",
    "outputId": "c8a5eee7-b563-46d1-9d9c-6e8df4eb047c"
   },
   "outputs": [
    {
     "data": {
      "text/plain": [
       "1.0"
      ]
     },
     "execution_count": 8,
     "metadata": {},
     "output_type": "execute_result"
    }
   ],
   "source": [
    "float(True)"
   ]
  },
  {
   "cell_type": "code",
   "execution_count": 9,
   "metadata": {
    "colab": {
     "base_uri": "https://localhost:8080/"
    },
    "id": "RWvrZI7LhMjL",
    "outputId": "12257c3b-7a50-4512-c6cc-31bfa29bf5f5"
   },
   "outputs": [
    {
     "data": {
      "text/plain": [
       "0.0"
      ]
     },
     "execution_count": 9,
     "metadata": {},
     "output_type": "execute_result"
    }
   ],
   "source": [
    "float(False)"
   ]
  },
  {
   "cell_type": "code",
   "execution_count": 20,
   "metadata": {
    "colab": {
     "base_uri": "https://localhost:8080/"
    },
    "id": "0AOWiN3ihOos",
    "outputId": "ae7ad4cc-302a-4eba-9c6a-9719668fa8d8"
   },
   "outputs": [
    {
     "name": "stdout",
     "output_type": "stream",
     "text": [
      "86.39\n"
     ]
    }
   ],
   "source": [
    "a = 245\n",
    "b = 2.835895\n",
    "print(f'{a/b:.2f}')"
   ]
  },
  {
   "cell_type": "code",
   "execution_count": null,
   "metadata": {},
   "outputs": [],
   "source": [
    "# Anotações by geanclm\n",
    "# start in 29/03/2022 at 18:55h\n",
    "\n",
    "# - - -\n",
    "\n",
    "# Como fazer mais com menos?\n",
    "# Como fazer muito mais com muito menos?\n",
    "\n",
    "# [Teste de variável]\n",
    "# .isnumeric()\n",
    "# .isalpha()\n",
    "# .isalnum()"
   ]
  },
  {
   "cell_type": "markdown",
   "metadata": {
    "id": "WnEQh4oNcAeM"
   },
   "source": [
    "# Condicionais"
   ]
  },
  {
   "cell_type": "code",
   "execution_count": 1,
   "metadata": {},
   "outputs": [
    {
     "name": "stdout",
     "output_type": "stream",
     "text": [
      "É True\n"
     ]
    }
   ],
   "source": [
    "if True:\n",
    "    print('É True')\n",
    "else:\n",
    "    print('É False')"
   ]
  }
 ],
 "metadata": {
  "colab": {
   "collapsed_sections": [],
   "name": "DNC_Python_Zero.ipynb",
   "provenance": []
  },
  "kernelspec": {
   "display_name": "Python 3",
   "language": "python",
   "name": "python3"
  },
  "language_info": {
   "codemirror_mode": {
    "name": "ipython",
    "version": 3
   },
   "file_extension": ".py",
   "mimetype": "text/x-python",
   "name": "python",
   "nbconvert_exporter": "python",
   "pygments_lexer": "ipython3",
   "version": "3.8.5"
  }
 },
 "nbformat": 4,
 "nbformat_minor": 1
}
