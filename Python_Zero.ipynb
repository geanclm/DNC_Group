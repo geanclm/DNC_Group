{
  "nbformat": 4,
  "nbformat_minor": 0,
  "metadata": {
    "colab": {
      "name": "Python_Zero.ipynb",
      "provenance": [],
      "collapsed_sections": []
    },
    "kernelspec": {
      "name": "python3",
      "display_name": "Python 3"
    },
    "language_info": {
      "name": "python"
    }
  },
  "cells": [
    {
      "cell_type": "markdown",
      "source": [
        "Curso Python - DNC Group<br>\n",
        "imiciado em 30/03/2022<br>\n",
        "by geanclm"
      ],
      "metadata": {
        "id": "DAZXEGJmrRkn"
      }
    },
    {
      "cell_type": "code",
      "execution_count": 1,
      "metadata": {
        "id": "WQPnxW_CMsvX",
        "colab": {
          "base_uri": "https://localhost:8080/"
        },
        "outputId": "d1dfb4bc-84c8-4372-c51a-1edca3040d4a"
      },
      "outputs": [
        {
          "output_type": "stream",
          "name": "stdout",
          "text": [
            "Olá Mundo!\n"
          ]
        }
      ],
      "source": [
        "print ('Olá Mundo!') #função imprimir"
      ]
    },
    {
      "cell_type": "code",
      "source": [
        "print('Casa', 10, 'grande', True)"
      ],
      "metadata": {
        "colab": {
          "base_uri": "https://localhost:8080/"
        },
        "id": "6nhnRgBcrt-H",
        "outputId": "b2587629-5646-4378-c600-6f51dea5eed3"
      },
      "execution_count": 4,
      "outputs": [
        {
          "output_type": "stream",
          "name": "stdout",
          "text": [
            "Casa 10 grande True\n"
          ]
        }
      ]
    }
  ]
}