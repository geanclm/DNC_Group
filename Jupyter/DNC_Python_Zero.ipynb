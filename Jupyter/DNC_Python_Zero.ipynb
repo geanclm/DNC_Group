{
 "cells": [
  {
   "cell_type": "markdown",
   "metadata": {
    "id": "DAZXEGJmrRkn"
   },
   "source": [
    "Curso: Python Zero<br>\n",
    "DNC Group<br>\n",
    "iniciado em 29/03/2022<br>\n",
    "by geanclm"
   ]
  },
  {
   "cell_type": "markdown",
   "metadata": {},
   "source": [
    "> Anotações diversas"
   ]
  },
  {
   "cell_type": "code",
   "execution_count": null,
   "metadata": {
    "colab": {
     "base_uri": "https://localhost:8080/"
    },
    "id": "WQPnxW_CMsvX",
    "outputId": "da5f112f-1371-4a29-df26-0743f08ce3a1"
   },
   "outputs": [
    {
     "name": "stdout",
     "output_type": "stream",
     "text": [
      "---------------------------------\n",
      "           Olá Mundo!            \n",
      "---------------------------------\n"
     ]
    }
   ],
   "source": [
    "print (f'{\"-\"*33:^33}')\n",
    "print (f'{\"Olá Mundo!\":^33}') #função imprimir\n",
    "print (f'{\"-\"*33:^33}')"
   ]
  },
  {
   "cell_type": "code",
   "execution_count": null,
   "metadata": {
    "colab": {
     "base_uri": "https://localhost:8080/"
    },
    "id": "6nhnRgBcrt-H",
    "outputId": "b2587629-5646-4378-c600-6f51dea5eed3"
   },
   "outputs": [
    {
     "name": "stdout",
     "output_type": "stream",
     "text": [
      "Casa 10 grande True\n"
     ]
    }
   ],
   "source": [
    "print('Casa', 10, 'grande', True)"
   ]
  },
  {
   "cell_type": "markdown",
   "metadata": {
    "id": "WnEQh4oNcAeM"
   },
   "source": [
    "# Operadores Aritméticos"
   ]
  },
  {
   "cell_type": "code",
   "execution_count": 15,
   "metadata": {
    "colab": {
     "base_uri": "https://localhost:8080/"
    },
    "id": "i8hoQ0tMcDzb",
    "outputId": "9dab0984-28ba-4dae-a349-6f06cb4e49dd"
   },
   "outputs": [
    {
     "name": "stdout",
     "output_type": "stream",
     "text": [
      "9\n",
      "5\n",
      "14\n",
      "3.5\n",
      "49\n",
      "3\n",
      "1\n"
     ]
    }
   ],
   "source": [
    "print(7 + 2)\n",
    "print(7 - 2)\n",
    "print(7 * 2)\n",
    "print(7 / 2)\n",
    "print(7 ** 2)\n",
    "print(7 // 2)\n",
    "print(7 % 2)"
   ]
  },
  {
   "cell_type": "code",
   "execution_count": 4,
   "metadata": {
    "colab": {
     "base_uri": "https://localhost:8080/"
    },
    "id": "UteuGZFNcZyF",
    "outputId": "087df5e3-f941-42fa-b147-4d8db52005df"
   },
   "outputs": [
    {
     "name": "stdout",
     "output_type": "stream",
     "text": [
      "Olá Mundo\n"
     ]
    }
   ],
   "source": [
    "print ('Olá' + ' Mundo')"
   ]
  },
  {
   "cell_type": "code",
   "execution_count": 6,
   "metadata": {
    "colab": {
     "base_uri": "https://localhost:8080/"
    },
    "id": "2mT1ocfNdD7T",
    "outputId": "ce713cc9-6165-4247-b6f1-0732620be9c0"
   },
   "outputs": [
    {
     "name": "stdout",
     "output_type": "stream",
     "text": [
      "Olá Olá Olá Olá Olá \n"
     ]
    }
   ],
   "source": [
    "print ('Olá '*5)"
   ]
  },
  {
   "cell_type": "code",
   "execution_count": 14,
   "metadata": {
    "colab": {
     "base_uri": "https://localhost:8080/"
    },
    "id": "zm4PQVdddKSc",
    "outputId": "b56e093f-36b6-4fc7-d5c4-818467d34526"
   },
   "outputs": [
    {
     "name": "stdout",
     "output_type": "stream",
     "text": [
      "---------------------\n",
      "        texto        \n",
      "---------------------\n"
     ]
    }
   ],
   "source": [
    "print ('-'*21)\n",
    "print (f'{\"texto\":^21}')\n",
    "print ('-'*21)"
   ]
  },
  {
   "cell_type": "code",
   "execution_count": null,
   "metadata": {
    "id": "IVlH6ZJ5djb1"
   },
   "outputs": [],
   "source": [
    "# https://docs.python.org/pt-br/3/reference/expressions.html#operator-summary\n",
    "# Ordem de precedência:\n",
    "# ()\n",
    "# **\n",
    "# * / // %\n",
    "# + -"
   ]
  },
  {
   "cell_type": "code",
   "execution_count": 8,
   "metadata": {
    "colab": {
     "base_uri": "https://localhost:8080/"
    },
    "id": "STGNRyfthJij",
    "outputId": "c8a5eee7-b563-46d1-9d9c-6e8df4eb047c"
   },
   "outputs": [
    {
     "data": {
      "text/plain": [
       "1.0"
      ]
     },
     "execution_count": 8,
     "metadata": {},
     "output_type": "execute_result"
    }
   ],
   "source": [
    "float(True)"
   ]
  },
  {
   "cell_type": "code",
   "execution_count": 9,
   "metadata": {
    "colab": {
     "base_uri": "https://localhost:8080/"
    },
    "id": "RWvrZI7LhMjL",
    "outputId": "12257c3b-7a50-4512-c6cc-31bfa29bf5f5"
   },
   "outputs": [
    {
     "data": {
      "text/plain": [
       "0.0"
      ]
     },
     "execution_count": 9,
     "metadata": {},
     "output_type": "execute_result"
    }
   ],
   "source": [
    "float(False)"
   ]
  },
  {
   "cell_type": "code",
   "execution_count": 20,
   "metadata": {
    "colab": {
     "base_uri": "https://localhost:8080/"
    },
    "id": "0AOWiN3ihOos",
    "outputId": "ae7ad4cc-302a-4eba-9c6a-9719668fa8d8"
   },
   "outputs": [
    {
     "name": "stdout",
     "output_type": "stream",
     "text": [
      "86.39\n"
     ]
    }
   ],
   "source": [
    "a = 245\n",
    "b = 2.835895\n",
    "print(f'{a/b:.2f}')"
   ]
  },
  {
   "cell_type": "code",
   "execution_count": null,
   "metadata": {},
   "outputs": [],
   "source": [
    "# Anotações by geanclm\n",
    "# start in 29/03/2022 at 18:55h\n",
    "\n",
    "# - - -\n",
    "\n",
    "# Como fazer mais com menos?\n",
    "# Como fazer muito mais com muito menos?\n",
    "\n",
    "# [Teste de variável]\n",
    "# .isnumeric()\n",
    "# .isalpha()\n",
    "# .isalnum()"
   ]
  },
  {
   "cell_type": "markdown",
   "metadata": {
    "id": "WnEQh4oNcAeM"
   },
   "source": [
    "# Condicionais"
   ]
  },
  {
   "cell_type": "code",
   "execution_count": 1,
   "metadata": {},
   "outputs": [
    {
     "name": "stdout",
     "output_type": "stream",
     "text": [
      "É True\n"
     ]
    }
   ],
   "source": [
    "if True:\n",
    "    print('É True')\n",
    "else:\n",
    "    print('É False')"
   ]
  },
  {
   "cell_type": "markdown",
   "metadata": {},
   "source": [
    "<center style=\"font-size:18pt; background-color:#c9d976\">\n",
    "    <br/>\n",
    "        <b style=\"color: #033409\">Repetições em Python</b>\n",
    "    <br/>&nbsp;\n",
    "</center>"
   ]
  },
  {
   "cell_type": "code",
   "execution_count": 4,
   "metadata": {},
   "outputs": [
    {
     "name": "stdout",
     "output_type": "stream",
     "text": [
      "0 1 2 3 4 5 6 7 8 9 "
     ]
    }
   ],
   "source": [
    "for i in range (0,10,1):\n",
    "    print (i, end=' ')"
   ]
  },
  {
   "cell_type": "code",
   "execution_count": 5,
   "metadata": {},
   "outputs": [
    {
     "name": "stdout",
     "output_type": "stream",
     "text": [
      "0 2 4 6 8 "
     ]
    }
   ],
   "source": [
    "for i in range (0,10,2):\n",
    "    print (i, end=' ')"
   ]
  },
  {
   "cell_type": "code",
   "execution_count": 8,
   "metadata": {},
   "outputs": [
    {
     "name": "stdout",
     "output_type": "stream",
     "text": [
      "Para i = 1 a soma é 1\n",
      "Para i = 3 a soma é 4\n",
      "Para i = 5 a soma é 9\n",
      "Para i = 7 a soma é 16\n",
      "Para i = 9 a soma é 25\n"
     ]
    }
   ],
   "source": [
    "soma = 0\n",
    "for i in range(1,10,2):\n",
    "    soma += i\n",
    "    print (f'Para i = {i} a soma é {soma}')"
   ]
  },
  {
   "cell_type": "code",
   "execution_count": 12,
   "metadata": {},
   "outputs": [
    {
     "name": "stdout",
     "output_type": "stream",
     "text": [
      "Digite o 1º número: 1\n",
      "para n = 1 a soma é 1\n",
      "Digite o 2º número: 2\n",
      "para n = 2 a soma é 3\n",
      "Digite o 3º número: 3\n",
      "para n = 3 a soma é 6\n",
      "Digite o 4º número: 4\n",
      "para n = 4 a soma é 10\n",
      "A soma final é: 10\n"
     ]
    }
   ],
   "source": [
    "soma = 0\n",
    "for i in range(0,4):\n",
    "    n = int(input(f'Digite o {i+1}º número: '))\n",
    "    soma += n\n",
    "    print (f'para n = {n} a soma parcial é {soma}')\n",
    "print (f'A soma final é: {soma}')"
   ]
  },
  {
   "cell_type": "code",
   "execution_count": 18,
   "metadata": {},
   "outputs": [
    {
     "name": "stdout",
     "output_type": "stream",
     "text": [
      "0 1 2 3 4 5 6 7 8 9 10 11 12 13 14 15 16 17 18 19 "
     ]
    }
   ],
   "source": [
    "c = 0\n",
    "while c < 20:\n",
    "    print (c, end=' ')\n",
    "    c += 1"
   ]
  },
  {
   "cell_type": "code",
   "execution_count": null,
   "metadata": {},
   "outputs": [],
   "source": []
  },
  {
   "cell_type": "markdown",
   "metadata": {},
   "source": [
    "<center style=\"font-size:18pt; background-color:#c9d976\">\n",
    "    <br/>\n",
    "        <b style=\"color: #033409\">Tuplas</b>\n",
    "    <br/>&nbsp;\n",
    "</center>"
   ]
  },
  {
   "cell_type": "code",
   "execution_count": 1,
   "metadata": {},
   "outputs": [],
   "source": [
    "tupla1 = ('lanche','batata','refrigerante')\n",
    "tupla2 = (2, 6, 4, 5, 7, 2, 4, 4)\n",
    "tupla3 = (True, False, True)\n",
    "tupla4 = ('lanche', 10.9, False)"
   ]
  },
  {
   "cell_type": "code",
   "execution_count": 22,
   "metadata": {},
   "outputs": [
    {
     "data": {
      "text/plain": [
       "('lanche', 'batata', 'refrigerante', 2, 6, 4, 5, 7, 2, 4, 4)"
      ]
     },
     "execution_count": 22,
     "metadata": {},
     "output_type": "execute_result"
    }
   ],
   "source": [
    "tupla1 + tupla2"
   ]
  },
  {
   "cell_type": "code",
   "execution_count": 18,
   "metadata": {},
   "outputs": [
    {
     "data": {
      "text/plain": [
       "6"
      ]
     },
     "execution_count": 18,
     "metadata": {},
     "output_type": "execute_result"
    }
   ],
   "source": [
    "tupla2.index(4,6)"
   ]
  },
  {
   "cell_type": "code",
   "execution_count": 16,
   "metadata": {},
   "outputs": [
    {
     "data": {
      "text/plain": [
       "2"
      ]
     },
     "execution_count": 16,
     "metadata": {},
     "output_type": "execute_result"
    }
   ],
   "source": [
    "tupla2.count(2)"
   ]
  },
  {
   "cell_type": "code",
   "execution_count": 15,
   "metadata": {},
   "outputs": [
    {
     "data": {
      "text/plain": [
       "{2, 4, 5, 6, 7}"
      ]
     },
     "execution_count": 15,
     "metadata": {},
     "output_type": "execute_result"
    }
   ],
   "source": [
    "set(tupla2)"
   ]
  },
  {
   "cell_type": "code",
   "execution_count": 8,
   "metadata": {},
   "outputs": [
    {
     "data": {
      "text/plain": [
       "'lanche'"
      ]
     },
     "execution_count": 8,
     "metadata": {},
     "output_type": "execute_result"
    }
   ],
   "source": [
    "tupla1[0]"
   ]
  },
  {
   "cell_type": "code",
   "execution_count": 21,
   "metadata": {},
   "outputs": [
    {
     "name": "stdout",
     "output_type": "stream",
     "text": [
      "0 lanche\n",
      "1 batata\n",
      "2 refrigerante\n"
     ]
    }
   ],
   "source": [
    "for i,v in enumerate(tupla1):\n",
    "    print(f'{i} {v}')"
   ]
  },
  {
   "cell_type": "code",
   "execution_count": 4,
   "metadata": {},
   "outputs": [
    {
     "name": "stdout",
     "output_type": "stream",
     "text": [
      "3\n"
     ]
    }
   ],
   "source": [
    "print(len(tupla1))"
   ]
  },
  {
   "cell_type": "code",
   "execution_count": 5,
   "metadata": {},
   "outputs": [
    {
     "data": {
      "text/plain": [
       "3"
      ]
     },
     "execution_count": 5,
     "metadata": {},
     "output_type": "execute_result"
    }
   ],
   "source": [
    "tupla2.count(4)"
   ]
  },
  {
   "cell_type": "code",
   "execution_count": 6,
   "metadata": {},
   "outputs": [
    {
     "data": {
      "text/plain": [
       "2"
      ]
     },
     "execution_count": 6,
     "metadata": {},
     "output_type": "execute_result"
    }
   ],
   "source": [
    "tupla2.index(4)"
   ]
  },
  {
   "cell_type": "markdown",
   "metadata": {},
   "source": [
    "<center style=\"font-size:18pt; background-color:#c9d976\">\n",
    "    <br/>\n",
    "        <b style=\"color: #033409\">Listas</b>\n",
    "    <br/>&nbsp;\n",
    "</center>"
   ]
  },
  {
   "cell_type": "code",
   "execution_count": 1,
   "metadata": {},
   "outputs": [],
   "source": [
    "lista = ['lanche','batata','refrigerante']"
   ]
  },
  {
   "cell_type": "code",
   "execution_count": 8,
   "metadata": {},
   "outputs": [
    {
     "data": {
      "text/plain": [
       "3"
      ]
     },
     "execution_count": 8,
     "metadata": {},
     "output_type": "execute_result"
    }
   ],
   "source": [
    "len(lista)"
   ]
  },
  {
   "cell_type": "code",
   "execution_count": 9,
   "metadata": {},
   "outputs": [
    {
     "data": {
      "text/plain": [
       "0"
      ]
     },
     "execution_count": 9,
     "metadata": {},
     "output_type": "execute_result"
    }
   ],
   "source": [
    "lista.index('lanche')"
   ]
  },
  {
   "cell_type": "code",
   "execution_count": 96,
   "metadata": {},
   "outputs": [
    {
     "name": "stdout",
     "output_type": "stream",
     "text": [
      "0 1 2 "
     ]
    }
   ],
   "source": [
    "for i in range(0,len(lista),1):\n",
    "    print (i, end=' ')"
   ]
  },
  {
   "cell_type": "code",
   "execution_count": 7,
   "metadata": {},
   "outputs": [
    {
     "name": "stdout",
     "output_type": "stream",
     "text": [
      "0 lanche\n",
      "1 batata\n",
      "2 refrigerante\n"
     ]
    }
   ],
   "source": [
    "for i,v in enumerate(lista):\n",
    "    print (i,v)"
   ]
  },
  {
   "cell_type": "code",
   "execution_count": 2,
   "metadata": {},
   "outputs": [],
   "source": [
    "l1 = [0,1,3,4,5,7]"
   ]
  },
  {
   "cell_type": "code",
   "execution_count": 3,
   "metadata": {},
   "outputs": [],
   "source": [
    "l3 = l1*3"
   ]
  },
  {
   "cell_type": "code",
   "execution_count": 6,
   "metadata": {},
   "outputs": [
    {
     "name": "stdout",
     "output_type": "stream",
     "text": [
      "[0, 1, 3, 4, 5, 7, 0, 1, 3, 4, 5, 7, 0, 1, 3, 4, 5, 7, 0, 1, 3, 4, 5, 7]\n"
     ]
    }
   ],
   "source": [
    "print (l1+l3)"
   ]
  },
  {
   "cell_type": "code",
   "execution_count": 99,
   "metadata": {},
   "outputs": [],
   "source": [
    "l1[2] = 3"
   ]
  },
  {
   "cell_type": "code",
   "execution_count": 100,
   "metadata": {},
   "outputs": [],
   "source": [
    "l1[0:2] = [0,1]"
   ]
  },
  {
   "cell_type": "code",
   "execution_count": 102,
   "metadata": {},
   "outputs": [],
   "source": [
    "l1.append(7)"
   ]
  },
  {
   "cell_type": "code",
   "execution_count": 110,
   "metadata": {},
   "outputs": [
    {
     "data": {
      "text/plain": [
       "[1, 3, 4, 5, 7]"
      ]
     },
     "execution_count": 110,
     "metadata": {},
     "output_type": "execute_result"
    }
   ],
   "source": [
    "l1"
   ]
  },
  {
   "cell_type": "code",
   "execution_count": 112,
   "metadata": {},
   "outputs": [],
   "source": [
    "l1.insert(1,99)"
   ]
  },
  {
   "cell_type": "code",
   "execution_count": 113,
   "metadata": {},
   "outputs": [
    {
     "data": {
      "text/plain": [
       "[1, 99, 99, 3, 4, 5, 7]"
      ]
     },
     "execution_count": 113,
     "metadata": {},
     "output_type": "execute_result"
    }
   ],
   "source": [
    "l1"
   ]
  },
  {
   "cell_type": "code",
   "execution_count": 106,
   "metadata": {},
   "outputs": [],
   "source": [
    "del l1[0]"
   ]
  },
  {
   "cell_type": "code",
   "execution_count": 107,
   "metadata": {},
   "outputs": [
    {
     "data": {
      "text/plain": [
       "7"
      ]
     },
     "execution_count": 107,
     "metadata": {},
     "output_type": "execute_result"
    }
   ],
   "source": [
    "l1.pop()"
   ]
  },
  {
   "cell_type": "code",
   "execution_count": 108,
   "metadata": {},
   "outputs": [],
   "source": [
    "l1.remove(7)"
   ]
  },
  {
   "cell_type": "code",
   "execution_count": 109,
   "metadata": {},
   "outputs": [
    {
     "data": {
      "text/plain": [
       "[1, 3, 4, 5, 7]"
      ]
     },
     "execution_count": 109,
     "metadata": {},
     "output_type": "execute_result"
    }
   ],
   "source": [
    "l1"
   ]
  },
  {
   "cell_type": "code",
   "execution_count": 51,
   "metadata": {},
   "outputs": [
    {
     "data": {
      "text/plain": [
       "[5, 4, 3, 1, 0]"
      ]
     },
     "execution_count": 51,
     "metadata": {},
     "output_type": "execute_result"
    }
   ],
   "source": [
    "# apenas visualiza a ordenação da lista sem gravar a modificação\n",
    "sorted(l1, reverse=True)"
   ]
  },
  {
   "cell_type": "code",
   "execution_count": 48,
   "metadata": {},
   "outputs": [],
   "source": [
    "# o método aplica a mudança na lista e grava a alteração\n",
    "l1.sort(reverse=True)"
   ]
  },
  {
   "cell_type": "code",
   "execution_count": 53,
   "metadata": {},
   "outputs": [
    {
     "data": {
      "text/plain": [
       "[0, 2, 6, 4, 8, 1, 3]"
      ]
     },
     "execution_count": 53,
     "metadata": {},
     "output_type": "execute_result"
    }
   ],
   "source": [
    "l1"
   ]
  },
  {
   "cell_type": "code",
   "execution_count": 54,
   "metadata": {},
   "outputs": [
    {
     "data": {
      "text/plain": [
       "3"
      ]
     },
     "execution_count": 54,
     "metadata": {},
     "output_type": "execute_result"
    }
   ],
   "source": [
    "l2 = l1\n",
    "l2.pop()"
   ]
  },
  {
   "cell_type": "code",
   "execution_count": 55,
   "metadata": {},
   "outputs": [
    {
     "data": {
      "text/plain": [
       "([0, 2, 6, 4, 8, 1], [0, 2, 6, 4, 8, 1])"
      ]
     },
     "execution_count": 55,
     "metadata": {},
     "output_type": "execute_result"
    }
   ],
   "source": [
    "l2, l1"
   ]
  },
  {
   "cell_type": "code",
   "execution_count": 56,
   "metadata": {},
   "outputs": [],
   "source": [
    "l2 = l1[:]"
   ]
  },
  {
   "cell_type": "code",
   "execution_count": 57,
   "metadata": {},
   "outputs": [
    {
     "data": {
      "text/plain": [
       "1"
      ]
     },
     "execution_count": 57,
     "metadata": {},
     "output_type": "execute_result"
    }
   ],
   "source": [
    "l2.pop()"
   ]
  },
  {
   "cell_type": "code",
   "execution_count": 58,
   "metadata": {},
   "outputs": [
    {
     "data": {
      "text/plain": [
       "([0, 2, 6, 4, 8], [0, 2, 6, 4, 8, 1])"
      ]
     },
     "execution_count": 58,
     "metadata": {},
     "output_type": "execute_result"
    }
   ],
   "source": [
    "l2,l1"
   ]
  },
  {
   "cell_type": "code",
   "execution_count": 74,
   "metadata": {},
   "outputs": [],
   "source": [
    "l1 = [0,2,6,4,8,1,3]\n",
    "l2 = [3,2,1,7,8,2,5]\n",
    "# l2 = [3,2,1,7,8]\n",
    "l3 = []"
   ]
  },
  {
   "cell_type": "code",
   "execution_count": 73,
   "metadata": {},
   "outputs": [
    {
     "name": "stdout",
     "output_type": "stream",
     "text": [
      "[3, 4, 7, 11, 16, 3, 8]\n"
     ]
    }
   ],
   "source": [
    "for i,v in enumerate(l1):\n",
    "    l3.append(l1[i] + l2[i])\n",
    "print(l3)"
   ]
  },
  {
   "cell_type": "code",
   "execution_count": 91,
   "metadata": {},
   "outputs": [],
   "source": [
    "l1 = [0,2,6,4,8,1,3]\n",
    "l2 = [3,2,1,7,8]\n",
    "l3 = []"
   ]
  },
  {
   "cell_type": "code",
   "execution_count": 92,
   "metadata": {},
   "outputs": [
    {
     "name": "stdout",
     "output_type": "stream",
     "text": [
      "0 + 3 = [3]\n",
      "2 + 2 = [3, 4]\n",
      "6 + 1 = [3, 4, 7]\n",
      "4 + 7 = [3, 4, 7, 11]\n",
      "8 + 8 = [3, 4, 7, 11, 16]\n",
      "-------------\n",
      "[3, 4, 7, 11, 16]\n"
     ]
    }
   ],
   "source": [
    "for i1,i2 in zip(l1,l2):\n",
    "    l3.append(i1+i2)\n",
    "    print (f'{i1} + {i2} = {l3}')\n",
    "print ('-'*13)\n",
    "print(l3)"
   ]
  },
  {
   "cell_type": "code",
   "execution_count": 11,
   "metadata": {},
   "outputs": [
    {
     "data": {
      "text/plain": [
       "[7, 5, 4, 3, 1, 0]"
      ]
     },
     "execution_count": 11,
     "metadata": {},
     "output_type": "execute_result"
    }
   ],
   "source": [
    "l1"
   ]
  },
  {
   "cell_type": "code",
   "execution_count": 10,
   "metadata": {},
   "outputs": [],
   "source": [
    "l1.reverse()"
   ]
  },
  {
   "cell_type": "markdown",
   "metadata": {},
   "source": [
    "<center style=\"font-size:18pt; background-color:#c9d976\">\n",
    "    <br/>\n",
    "        <b style=\"color: #033409\">Listas compostas</b>\n",
    "    <br/>&nbsp;\n",
    "</center>"
   ]
  },
  {
   "cell_type": "code",
   "execution_count": 1,
   "metadata": {},
   "outputs": [],
   "source": [
    "lanche = ['lanche', 10.90]\n",
    "batata = ['batata',5.50]\n",
    "refri = ['refri',3.90]\n",
    "menu = [lanche,batata,refri]"
   ]
  },
  {
   "cell_type": "code",
   "execution_count": 6,
   "metadata": {},
   "outputs": [
    {
     "name": "stdout",
     "output_type": "stream",
     "text": [
      "<class 'list'>\n"
     ]
    }
   ],
   "source": [
    "print(type(menu))"
   ]
  },
  {
   "cell_type": "code",
   "execution_count": 5,
   "metadata": {},
   "outputs": [
    {
     "data": {
      "text/plain": [
       "('lanche', ['refri', 3.9])"
      ]
     },
     "execution_count": 5,
     "metadata": {},
     "output_type": "execute_result"
    }
   ],
   "source": [
    "menu[0][0], menu[2]"
   ]
  },
  {
   "cell_type": "code",
   "execution_count": 9,
   "metadata": {},
   "outputs": [
    {
     "data": {
      "text/plain": [
       "[]"
      ]
     },
     "execution_count": 9,
     "metadata": {},
     "output_type": "execute_result"
    }
   ],
   "source": [
    "batata"
   ]
  },
  {
   "cell_type": "code",
   "execution_count": 8,
   "metadata": {},
   "outputs": [],
   "source": [
    "batata.clear()"
   ]
  },
  {
   "cell_type": "code",
   "execution_count": 10,
   "metadata": {},
   "outputs": [],
   "source": [
    "var = 'teste'"
   ]
  },
  {
   "cell_type": "code",
   "execution_count": 17,
   "metadata": {},
   "outputs": [
    {
     "data": {
      "text/plain": [
       "'teste'"
      ]
     },
     "execution_count": 17,
     "metadata": {},
     "output_type": "execute_result"
    }
   ],
   "source": [
    "var"
   ]
  },
  {
   "cell_type": "code",
   "execution_count": 16,
   "metadata": {},
   "outputs": [
    {
     "name": "stdout",
     "output_type": "stream",
     "text": [
      "\f",
      "\n"
     ]
    }
   ],
   "source": [
    "clear(var)"
   ]
  },
  {
   "cell_type": "code",
   "execution_count": null,
   "metadata": {},
   "outputs": [],
   "source": []
  },
  {
   "cell_type": "markdown",
   "metadata": {},
   "source": [
    "<center style=\"font-size:18pt; background-color:#c9d976\">\n",
    "    <br/>\n",
    "        <b style=\"color: #033409\">Dicionários e Funções</b>\n",
    "    <br/>&nbsp;\n",
    "</center>"
   ]
  },
  {
   "cell_type": "code",
   "execution_count": 56,
   "metadata": {},
   "outputs": [],
   "source": [
    "lista = ['Gean', 47, 'João Pessoa']"
   ]
  },
  {
   "cell_type": "code",
   "execution_count": 59,
   "metadata": {},
   "outputs": [],
   "source": [
    "dic = {'nome' : 'Gean',\n",
    "      'idade': 47,\n",
    "      'cidade': 'João Pessoa'}"
   ]
  },
  {
   "cell_type": "code",
   "execution_count": 60,
   "metadata": {},
   "outputs": [
    {
     "name": "stdout",
     "output_type": "stream",
     "text": [
      "dict_keys(['nome', 'idade', 'cidade'])\n",
      "dict_values(['Gean', 47, 'João Pessoa'])\n",
      "dict_items([('nome', 'Gean'), ('idade', 47), ('cidade', 'João Pessoa')])\n"
     ]
    }
   ],
   "source": [
    "print(dic.keys())\n",
    "print(dic.values())\n",
    "print(dic.items())"
   ]
  },
  {
   "cell_type": "code",
   "execution_count": 61,
   "metadata": {},
   "outputs": [],
   "source": [
    "del dic['cidade']"
   ]
  },
  {
   "cell_type": "code",
   "execution_count": 62,
   "metadata": {},
   "outputs": [
    {
     "data": {
      "text/plain": [
       "{'nome': 'Gean', 'idade': 47}"
      ]
     },
     "execution_count": 62,
     "metadata": {},
     "output_type": "execute_result"
    }
   ],
   "source": [
    "dic"
   ]
  },
  {
   "cell_type": "code",
   "execution_count": 63,
   "metadata": {},
   "outputs": [
    {
     "name": "stdout",
     "output_type": "stream",
     "text": [
      "Gean\n",
      "47\n"
     ]
    }
   ],
   "source": [
    "for i in dic.values():\n",
    "    print (i)"
   ]
  },
  {
   "cell_type": "code",
   "execution_count": 28,
   "metadata": {},
   "outputs": [
    {
     "name": "stdout",
     "output_type": "stream",
     "text": [
      "nome\n",
      "idade\n",
      "cidade\n"
     ]
    }
   ],
   "source": [
    "for i in dic.keys():\n",
    "    print (i)"
   ]
  },
  {
   "cell_type": "code",
   "execution_count": 30,
   "metadata": {},
   "outputs": [
    {
     "name": "stdout",
     "output_type": "stream",
     "text": [
      "nome Gean\n",
      "idade 47\n",
      "cidade João Pessoa\n"
     ]
    }
   ],
   "source": [
    "for i,v in dic.items():\n",
    "    print (i,v)"
   ]
  },
  {
   "cell_type": "code",
   "execution_count": 64,
   "metadata": {},
   "outputs": [],
   "source": [
    "pessoas = [{'nome' : 'Gean','idade': 47, 'cidade': 'João Pessoa'},\n",
    "    {'nome' : 'Carlos','idade': 46, 'cidade': 'Bresília'},\n",
    "    {'nome' : 'Luciano','idade': 45, 'cidade': 'São Paulo'},\n",
    "    {'nome' : 'Madeira','idade': 44, 'cidade': 'Santa Catarina'}]"
   ]
  },
  {
   "cell_type": "code",
   "execution_count": 65,
   "metadata": {},
   "outputs": [
    {
     "data": {
      "text/plain": [
       "[{'nome': 'Gean', 'idade': 47, 'cidade': 'João Pessoa'},\n",
       " {'nome': 'Carlos', 'idade': 46, 'cidade': 'Bresília'},\n",
       " {'nome': 'Luciano', 'idade': 45, 'cidade': 'São Paulo'},\n",
       " {'nome': 'Madeira', 'idade': 44, 'cidade': 'Santa Catarina'}]"
      ]
     },
     "execution_count": 65,
     "metadata": {},
     "output_type": "execute_result"
    }
   ],
   "source": [
    "pessoas"
   ]
  },
  {
   "cell_type": "code",
   "execution_count": 66,
   "metadata": {},
   "outputs": [
    {
     "name": "stdout",
     "output_type": "stream",
     "text": [
      "nome: Gean\n",
      "idade: 47\n",
      "cidade: João Pessoa\n",
      "-------------\n",
      "nome: Carlos\n",
      "idade: 46\n",
      "cidade: Bresília\n",
      "-------------\n",
      "nome: Luciano\n",
      "idade: 45\n",
      "cidade: São Paulo\n",
      "-------------\n",
      "nome: Madeira\n",
      "idade: 44\n",
      "cidade: Santa Catarina\n",
      "-------------\n"
     ]
    }
   ],
   "source": [
    "for i in pessoas:\n",
    "    for k,v in i.items():\n",
    "        print (f'{k}: {v}')\n",
    "    print ('-'*13)"
   ]
  },
  {
   "cell_type": "code",
   "execution_count": 56,
   "metadata": {},
   "outputs": [
    {
     "name": "stdout",
     "output_type": "stream",
     "text": [
      "valor 1: 150\n",
      "valor 2: 300\n",
      "{0: '150', 1: '300'}\n",
      "[{0: '150', 1: '300'}]\n"
     ]
    }
   ],
   "source": [
    "dic = {}\n",
    "lista = []\n",
    "for i in range(0,2,1):\n",
    "    dic[i] = input(f'valor {i+1}: ')\n",
    "lista.append(dic.copy())\n",
    "print (dic)\n",
    "print (lista)"
   ]
  },
  {
   "cell_type": "markdown",
   "metadata": {},
   "source": [
    "<center style=\"font-size:18pt; background-color:#c9d976\">\n",
    "    <br/>\n",
    "        <b style=\"color: #033409\">Funções</b>\n",
    "    <br/>&nbsp;\n",
    "</center>"
   ]
  },
  {
   "cell_type": "code",
   "execution_count": 26,
   "metadata": {},
   "outputs": [
    {
     "data": {
      "text/plain": [
       "2"
      ]
     },
     "execution_count": 26,
     "metadata": {},
     "output_type": "execute_result"
    }
   ],
   "source": [
    "def soma(*args):\n",
    "    \"\"\"\n",
    "    docstring da função soma\n",
    "    Função soma: soma n números inteiros\n",
    "    param: args\n",
    "    retorno: soma\n",
    "    autor: geanclm\n",
    "    \"\"\"\n",
    "    global teste\n",
    "    teste = 'texto da função'\n",
    "    soma = sum(args)\n",
    "    return soma\n",
    "soma (1,-2, 3)\n",
    "# soma()\n",
    "# teste"
   ]
  },
  {
   "cell_type": "code",
   "execution_count": 27,
   "metadata": {},
   "outputs": [
    {
     "name": "stdout",
     "output_type": "stream",
     "text": [
      "Help on function soma in module __main__:\n",
      "\n",
      "soma(*args)\n",
      "    docstring da função soma\n",
      "    Função soma: soma n números inteiros\n",
      "    param: args\n",
      "    retorno: soma\n",
      "    autor: geanclm\n",
      "\n"
     ]
    }
   ],
   "source": [
    "help (soma)"
   ]
  },
  {
   "cell_type": "code",
   "execution_count": null,
   "metadata": {},
   "outputs": [],
   "source": []
  },
  {
   "cell_type": "markdown",
   "metadata": {},
   "source": [
    "<center style=\"font-size:18pt; background-color:#c9d976\">\n",
    "    <br/>\n",
    "        <b style=\"color: #033409\">Prova para Certificação Final</b>\n",
    "    <br/>&nbsp;\n",
    "</center>"
   ]
  },
  {
   "cell_type": "code",
   "execution_count": null,
   "metadata": {},
   "outputs": [],
   "source": []
  },
  {
   "cell_type": "code",
   "execution_count": 1,
   "metadata": {},
   "outputs": [
    {
     "name": "stdout",
     "output_type": "stream",
     "text": [
      "[1, 2, 3, 4, 5, 1, 2, 3, 4, 5]\n"
     ]
    }
   ],
   "source": [
    "Lista1 = [1,2,3,4,5]\n",
    "Lista2 = [1,2,3,4,5]\n",
    "Lista3 = Lista1 + Lista2\n",
    "print(Lista3)"
   ]
  },
  {
   "cell_type": "code",
   "execution_count": 55,
   "metadata": {},
   "outputs": [
    {
     "name": "stdout",
     "output_type": "stream",
     "text": [
      "7\n"
     ]
    }
   ],
   "source": [
    "def Z_x (lista1,lista2,x):\n",
    "    z=0\n",
    "    for a in lista1:\n",
    "        if a==x:\n",
    "            z+=1\n",
    "    for b in lista2:\n",
    "        if b==x:\n",
    "            z+=1\n",
    "    return z\n",
    "a =['dnc','abc','bnc','mnc','dnc','bnc','Dnc','ncd','dnc','dncdnc','ddnc']\n",
    "b = ['dnc','abc','bnc','mnc','dnc','bnc','Dnc','ncd','dnc','dncdnc','ddnc','xms','cds','dn','cdn','dnc','xml','a']\n",
    "y = Z_x(a,b,'dnc')\n",
    "print(y)"
   ]
  },
  {
   "cell_type": "code",
   "execution_count": 4,
   "metadata": {},
   "outputs": [
    {
     "name": "stdout",
     "output_type": "stream",
     "text": [
      "0\n"
     ]
    }
   ],
   "source": [
    "a =['dnc','abc','bnc','mnc','dnc','bnc','Dnc','ncd','dnc','dncdnc','ddnc']\n",
    "b =['dnc','abc','bnc','mnc','dnc','bnc','Dnc','ncd','dnc','dncdnc','ddnc','xms','cds','dn','cdn','dnc','xml','a']\n",
    "def contador_x (lista1,lista2,x):\n",
    "    contador=0\n",
    "    for a,b in zip(lista1,lista2):\n",
    "        if a ==x and b==x:\n",
    "            break\n",
    "        else:\n",
    "            contador+=1\n",
    "    return contador\n",
    "y = contador_x(a,b,'dnc')\n",
    "print(y)"
   ]
  },
  {
   "cell_type": "code",
   "execution_count": 5,
   "metadata": {},
   "outputs": [
    {
     "name": "stdout",
     "output_type": "stream",
     "text": [
      "[11, 14, 15, 22, 23, 25, 44, 68, 77, 80, 90, 99]\n"
     ]
    }
   ],
   "source": [
    "lista = [77,80,90,23,44,15,11,25,68,14,22,99]\n",
    "X = sorted(lista)\n",
    "print(X)"
   ]
  },
  {
   "cell_type": "code",
   "execution_count": 54,
   "metadata": {},
   "outputs": [
    {
     "name": "stdout",
     "output_type": "stream",
     "text": [
      "['PetersonAlmeida', 'MariaSilva', 'JoseSantos']\n"
     ]
    }
   ],
   "source": [
    "dicionario={'pessoa_1':{'nome':'Peterson','sobrenome':'Almeida'},\n",
    "            'pessoa_2':{'nome':'Maria','sobrenome':'Silva'},\n",
    "            'pessoa_3':{'nome':'Jose','sobrenome':'Santos'}}\n",
    "nome_completo=[]\n",
    "for a,b in dicionario.items():\n",
    "#     print (b['nome'], b['sobrenome']) # correção para impriir nome e sobrenome\n",
    "    nome_completo.append(str(b['nome'])'+'str(b['sobrenome'])) # o operador + está declarado como string e gera erro\n",
    "print(nome_completo)"
   ]
  },
  {
   "cell_type": "code",
   "execution_count": 7,
   "metadata": {},
   "outputs": [
    {
     "name": "stdout",
     "output_type": "stream",
     "text": [
      "25.86\n"
     ]
    }
   ],
   "source": [
    "altura = 1.75\n",
    "peso = 79.2\n",
    "IMC = peso/altura**2\n",
    "print('{:.2f}'.format(IMC))"
   ]
  },
  {
   "cell_type": "code",
   "execution_count": 8,
   "metadata": {},
   "outputs": [
    {
     "name": "stdout",
     "output_type": "stream",
     "text": [
      "1\n"
     ]
    }
   ],
   "source": [
    "a = '10'\n",
    "b = '3'\n",
    "c = int(a)%int(b)\n",
    "print(c)"
   ]
  },
  {
   "cell_type": "code",
   "execution_count": 12,
   "metadata": {},
   "outputs": [
    {
     "name": "stdout",
     "output_type": "stream",
     "text": [
      "bnc\n"
     ]
    }
   ],
   "source": [
    "a = ['dnc','abc','bnc','mnc','dnc','bnc','Dnc','ncd','dnc','dncdnc','ddnc']\n",
    "print(a[5])"
   ]
  },
  {
   "cell_type": "code",
   "execution_count": 13,
   "metadata": {},
   "outputs": [
    {
     "name": "stdout",
     "output_type": "stream",
     "text": [
      "9018.5\n"
     ]
    }
   ],
   "source": [
    "lista = [10,2,30,23,12,42,543,24,33,34,123.5,1231,53,123,6456,234,45]\n",
    "X = 0\n",
    "for i in lista:\n",
    "    X += i\n",
    "print(X)"
   ]
  },
  {
   "cell_type": "code",
   "execution_count": null,
   "metadata": {},
   "outputs": [],
   "source": [
    "# by geanclm in 15/05/2022\n",
    "# Obs: o certo é 'if i%2 == 1'\n",
    "# para somar os ímpares até encontrar a string dnc    \n",
    "# há erro de construção neste códido\n",
    "# e um segundo erro ainda é na comparação da posição 'dnc\n",
    "# quando precisa calcular com i%2 ==1'\n",
    "    \n",
    "lista = [13,2,19,11,7,9,19,16,17,7,7,10,1,6,'dnc',18,2,11,2,9,10]\n",
    "X=0\n",
    "i=0\n",
    "while True:\n",
    "    if lista[i] == 'dnc':\n",
    "        break\n",
    "    if lista[i]%2 == 1:\n",
    "        X += lista[i]\n",
    "        i += 1\n",
    "    print(X)\n",
    "    \n",
    "# O comando soma os valores ímpares presentes\n",
    "# na lista até que a palavra ‘dnc’ apareça;\n",
    "\n",
    "# Minha opinião é que poderia ser proposto\n",
    "# um menu de cardápio conforme feito em exercícios\n",
    "# de aula para listar e pesquisar os dados\n",
    "# cadastrados"
   ]
  }
 ],
 "metadata": {
  "colab": {
   "collapsed_sections": [],
   "name": "DNC_Python_Zero.ipynb",
   "provenance": []
  },
  "kernelspec": {
   "display_name": "Python 3",
   "language": "python",
   "name": "python3"
  },
  "language_info": {
   "codemirror_mode": {
    "name": "ipython",
    "version": 3
   },
   "file_extension": ".py",
   "mimetype": "text/x-python",
   "name": "python",
   "nbconvert_exporter": "python",
   "pygments_lexer": "ipython3",
   "version": "3.8.5"
  }
 },
 "nbformat": 4,
 "nbformat_minor": 1
}
