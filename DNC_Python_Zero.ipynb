{
  "nbformat": 4,
  "nbformat_minor": 0,
  "metadata": {
    "colab": {
      "name": "DNC_Python_Zero.ipynb",
      "provenance": [],
      "collapsed_sections": []
    },
    "kernelspec": {
      "name": "python3",
      "display_name": "Python 3"
    },
    "language_info": {
      "name": "python"
    }
  },
  "cells": [
    {
      "cell_type": "markdown",
      "source": [
        "Curso Python - DNC Group<br>\n",
        "iniciado em 30/03/2022<br>\n",
        "by geanclm"
      ],
      "metadata": {
        "id": "DAZXEGJmrRkn"
      }
    },
    {
      "cell_type": "code",
      "execution_count": null,
      "metadata": {
        "id": "WQPnxW_CMsvX",
        "colab": {
          "base_uri": "https://localhost:8080/"
        },
        "outputId": "da5f112f-1371-4a29-df26-0743f08ce3a1"
      },
      "outputs": [
        {
          "output_type": "stream",
          "name": "stdout",
          "text": [
            "---------------------------------\n",
            "           Olá Mundo!            \n",
            "---------------------------------\n"
          ]
        }
      ],
      "source": [
        "print (f'{\"-\"*33:^33}')\n",
        "print (f'{\"Olá Mundo!\":^33}') #função imprimir\n",
        "print (f'{\"-\"*33:^33}')"
      ]
    },
    {
      "cell_type": "code",
      "source": [
        "print('Casa', 10, 'grande', True)"
      ],
      "metadata": {
        "colab": {
          "base_uri": "https://localhost:8080/"
        },
        "id": "6nhnRgBcrt-H",
        "outputId": "b2587629-5646-4378-c600-6f51dea5eed3"
      },
      "execution_count": null,
      "outputs": [
        {
          "output_type": "stream",
          "name": "stdout",
          "text": [
            "Casa 10 grande True\n"
          ]
        }
      ]
    }
  ]
}