{
  "nbformat": 4,
  "nbformat_minor": 0,
  "metadata": {
    "colab": {
      "name": "DNC_Python_Zero.ipynb",
      "provenance": [],
      "collapsed_sections": []
    },
    "kernelspec": {
      "name": "python3",
      "display_name": "Python 3"
    },
    "language_info": {
      "name": "python"
    }
  },
  "cells": [
    {
      "cell_type": "markdown",
      "source": [
        "Curso Python - DNC Group<br>\n",
        "iniciado em 30/03/2022<br>\n",
        "by geanclm"
      ],
      "metadata": {
        "id": "DAZXEGJmrRkn"
      }
    },
    {
      "cell_type": "code",
      "execution_count": null,
      "metadata": {
        "id": "WQPnxW_CMsvX",
        "colab": {
          "base_uri": "https://localhost:8080/"
        },
        "outputId": "da5f112f-1371-4a29-df26-0743f08ce3a1"
      },
      "outputs": [
        {
          "output_type": "stream",
          "name": "stdout",
          "text": [
            "---------------------------------\n",
            "           Olá Mundo!            \n",
            "---------------------------------\n"
          ]
        }
      ],
      "source": [
        "print (f'{\"-\"*33:^33}')\n",
        "print (f'{\"Olá Mundo!\":^33}') #função imprimir\n",
        "print (f'{\"-\"*33:^33}')"
      ]
    },
    {
      "cell_type": "code",
      "source": [
        "print('Casa', 10, 'grande', True)"
      ],
      "metadata": {
        "colab": {
          "base_uri": "https://localhost:8080/"
        },
        "id": "6nhnRgBcrt-H",
        "outputId": "b2587629-5646-4378-c600-6f51dea5eed3"
      },
      "execution_count": null,
      "outputs": [
        {
          "output_type": "stream",
          "name": "stdout",
          "text": [
            "Casa 10 grande True\n"
          ]
        }
      ]
    },
    {
      "cell_type": "markdown",
      "source": [
        "# Operadores Aritméticos"
      ],
      "metadata": {
        "id": "WnEQh4oNcAeM"
      }
    },
    {
      "cell_type": "code",
      "source": [
        "print(7 + 2)\n",
        "print(7 - 2)\n",
        "print(7 * 2)\n",
        "print(7 / 2)\n",
        "print(7 ** 2)\n",
        "print(7 // 2)\n",
        "print(7 % 2)"
      ],
      "metadata": {
        "colab": {
          "base_uri": "https://localhost:8080/"
        },
        "id": "i8hoQ0tMcDzb",
        "outputId": "9dab0984-28ba-4dae-a349-6f06cb4e49dd"
      },
      "execution_count": 15,
      "outputs": [
        {
          "output_type": "stream",
          "name": "stdout",
          "text": [
            "9\n",
            "5\n",
            "14\n",
            "3.5\n",
            "49\n",
            "3\n",
            "1\n"
          ]
        }
      ]
    },
    {
      "cell_type": "code",
      "source": [
        "print ('Olá' + ' Mundo')"
      ],
      "metadata": {
        "colab": {
          "base_uri": "https://localhost:8080/"
        },
        "id": "UteuGZFNcZyF",
        "outputId": "087df5e3-f941-42fa-b147-4d8db52005df"
      },
      "execution_count": 4,
      "outputs": [
        {
          "output_type": "stream",
          "name": "stdout",
          "text": [
            "Olá Mundo\n"
          ]
        }
      ]
    },
    {
      "cell_type": "code",
      "source": [
        "print ('Olá '*5)"
      ],
      "metadata": {
        "colab": {
          "base_uri": "https://localhost:8080/"
        },
        "id": "2mT1ocfNdD7T",
        "outputId": "ce713cc9-6165-4247-b6f1-0732620be9c0"
      },
      "execution_count": 6,
      "outputs": [
        {
          "output_type": "stream",
          "name": "stdout",
          "text": [
            "Olá Olá Olá Olá Olá \n"
          ]
        }
      ]
    },
    {
      "cell_type": "code",
      "source": [
        "print ('-'*21)\n",
        "print (f'{\"texto\":^21}')\n",
        "print ('-'*21)"
      ],
      "metadata": {
        "colab": {
          "base_uri": "https://localhost:8080/"
        },
        "id": "zm4PQVdddKSc",
        "outputId": "b56e093f-36b6-4fc7-d5c4-818467d34526"
      },
      "execution_count": 14,
      "outputs": [
        {
          "output_type": "stream",
          "name": "stdout",
          "text": [
            "---------------------\n",
            "        texto        \n",
            "---------------------\n"
          ]
        }
      ]
    },
    {
      "cell_type": "code",
      "source": [
        "# https://docs.python.org/pt-br/3/reference/expressions.html#operator-summary\n",
        "# Ordem de precedência:\n",
        "# ()\n",
        "# **\n",
        "# * / // %\n",
        "# + -"
      ],
      "metadata": {
        "id": "IVlH6ZJ5djb1"
      },
      "execution_count": null,
      "outputs": []
    },
    {
      "cell_type": "code",
      "source": [
        "float(True)"
      ],
      "metadata": {
        "colab": {
          "base_uri": "https://localhost:8080/"
        },
        "id": "STGNRyfthJij",
        "outputId": "c8a5eee7-b563-46d1-9d9c-6e8df4eb047c"
      },
      "execution_count": 8,
      "outputs": [
        {
          "output_type": "execute_result",
          "data": {
            "text/plain": [
              "1.0"
            ]
          },
          "metadata": {},
          "execution_count": 8
        }
      ]
    },
    {
      "cell_type": "code",
      "source": [
        "float(False)"
      ],
      "metadata": {
        "colab": {
          "base_uri": "https://localhost:8080/"
        },
        "id": "RWvrZI7LhMjL",
        "outputId": "12257c3b-7a50-4512-c6cc-31bfa29bf5f5"
      },
      "execution_count": 9,
      "outputs": [
        {
          "output_type": "execute_result",
          "data": {
            "text/plain": [
              "0.0"
            ]
          },
          "metadata": {},
          "execution_count": 9
        }
      ]
    },
    {
      "cell_type": "code",
      "source": [
        "a = 245\n",
        "b = 2.835895\n",
        "print(f'{a/b:.2f}')"
      ],
      "metadata": {
        "colab": {
          "base_uri": "https://localhost:8080/"
        },
        "id": "0AOWiN3ihOos",
        "outputId": "ae7ad4cc-302a-4eba-9c6a-9719668fa8d8"
      },
      "execution_count": 20,
      "outputs": [
        {
          "output_type": "stream",
          "name": "stdout",
          "text": [
            "86.39\n"
          ]
        }
      ]
    }
  ]
}